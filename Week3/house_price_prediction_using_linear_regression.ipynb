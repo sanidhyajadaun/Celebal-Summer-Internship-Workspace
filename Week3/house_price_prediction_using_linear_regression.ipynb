{
 "cells": [
  {
   "attachments": {},
   "cell_type": "markdown",
   "id": "laden-vinyl",
   "metadata": {
    "papermill": {
     "duration": 0.040422,
     "end_time": "2021-05-20T18:36:26.044236",
     "exception": false,
     "start_time": "2021-05-20T18:36:26.003814",
     "status": "completed"
    },
    "tags": []
   },
   "source": [
    "## **Predicting the price of houses using Linear Regression**"
   ]
  },
  {
   "attachments": {},
   "cell_type": "markdown",
   "id": "guilty-swimming",
   "metadata": {
    "papermill": {
     "duration": 0.037506,
     "end_time": "2021-05-20T18:36:26.197206",
     "exception": false,
     "start_time": "2021-05-20T18:36:26.159700",
     "status": "completed"
    },
    "tags": []
   },
   "source": [
    "### **Importing the required libraries**"
   ]
  },
  {
   "cell_type": "code",
   "execution_count": 77,
   "id": "tested-hunter",
   "metadata": {
    "execution": {
     "iopub.execute_input": "2021-05-20T18:36:26.278076Z",
     "iopub.status.busy": "2021-05-20T18:36:26.276277Z",
     "iopub.status.idle": "2021-05-20T18:36:27.587459Z",
     "shell.execute_reply": "2021-05-20T18:36:27.586150Z",
     "shell.execute_reply.started": "2021-05-20T18:28:57.319358Z"
    },
    "papermill": {
     "duration": 1.352923,
     "end_time": "2021-05-20T18:36:27.587657",
     "exception": false,
     "start_time": "2021-05-20T18:36:26.234734",
     "status": "completed"
    },
    "tags": []
   },
   "outputs": [],
   "source": [
    "import numpy as np   \n",
    "import pandas as pd\n",
    "import matplotlib.pyplot as plt  #to plot graphs\n",
    "import seaborn as sns  #to plot graphs\n",
    "from sklearn.linear_model import LinearRegression   #for linear regression model\n",
    "sns.set()  #setting seaborn as default \n",
    "\n",
    "import warnings\n",
    "warnings.filterwarnings('ignore')"
   ]
  },
  {
   "attachments": {},
   "cell_type": "markdown",
   "id": "outside-depth",
   "metadata": {
    "papermill": {
     "duration": 0.037353,
     "end_time": "2021-05-20T18:36:27.664358",
     "exception": false,
     "start_time": "2021-05-20T18:36:27.627005",
     "status": "completed"
    },
    "tags": []
   },
   "source": [
    "### **Reading the dataset**"
   ]
  },
  {
   "cell_type": "code",
   "execution_count": 78,
   "id": "traditional-anger",
   "metadata": {
    "execution": {
     "iopub.execute_input": "2021-05-20T18:36:27.745124Z",
     "iopub.status.busy": "2021-05-20T18:36:27.744161Z",
     "iopub.status.idle": "2021-05-20T18:36:27.789230Z",
     "shell.execute_reply": "2021-05-20T18:36:27.788709Z",
     "shell.execute_reply.started": "2021-05-20T18:28:57.328033Z"
    },
    "papermill": {
     "duration": 0.087447,
     "end_time": "2021-05-20T18:36:27.789369",
     "exception": false,
     "start_time": "2021-05-20T18:36:27.701922",
     "status": "completed"
    },
    "tags": []
   },
   "outputs": [
    {
     "data": {
      "text/html": [
       "<div>\n",
       "<style scoped>\n",
       "    .dataframe tbody tr th:only-of-type {\n",
       "        vertical-align: middle;\n",
       "    }\n",
       "\n",
       "    .dataframe tbody tr th {\n",
       "        vertical-align: top;\n",
       "    }\n",
       "\n",
       "    .dataframe thead th {\n",
       "        text-align: right;\n",
       "    }\n",
       "</style>\n",
       "<table border=\"1\" class=\"dataframe\">\n",
       "  <thead>\n",
       "    <tr style=\"text-align: right;\">\n",
       "      <th></th>\n",
       "      <th>price</th>\n",
       "      <th>area</th>\n",
       "      <th>bedrooms</th>\n",
       "      <th>bathrooms</th>\n",
       "      <th>stories</th>\n",
       "      <th>mainroad</th>\n",
       "      <th>guestroom</th>\n",
       "      <th>basement</th>\n",
       "      <th>hotwaterheating</th>\n",
       "      <th>airconditioning</th>\n",
       "      <th>parking</th>\n",
       "      <th>prefarea</th>\n",
       "      <th>furnishingstatus</th>\n",
       "    </tr>\n",
       "  </thead>\n",
       "  <tbody>\n",
       "    <tr>\n",
       "      <th>0</th>\n",
       "      <td>13300000</td>\n",
       "      <td>7420</td>\n",
       "      <td>4</td>\n",
       "      <td>2</td>\n",
       "      <td>3</td>\n",
       "      <td>yes</td>\n",
       "      <td>no</td>\n",
       "      <td>no</td>\n",
       "      <td>no</td>\n",
       "      <td>yes</td>\n",
       "      <td>2</td>\n",
       "      <td>yes</td>\n",
       "      <td>furnished</td>\n",
       "    </tr>\n",
       "    <tr>\n",
       "      <th>1</th>\n",
       "      <td>12250000</td>\n",
       "      <td>8960</td>\n",
       "      <td>4</td>\n",
       "      <td>4</td>\n",
       "      <td>4</td>\n",
       "      <td>yes</td>\n",
       "      <td>no</td>\n",
       "      <td>no</td>\n",
       "      <td>no</td>\n",
       "      <td>yes</td>\n",
       "      <td>3</td>\n",
       "      <td>no</td>\n",
       "      <td>furnished</td>\n",
       "    </tr>\n",
       "    <tr>\n",
       "      <th>2</th>\n",
       "      <td>12250000</td>\n",
       "      <td>9960</td>\n",
       "      <td>3</td>\n",
       "      <td>2</td>\n",
       "      <td>2</td>\n",
       "      <td>yes</td>\n",
       "      <td>no</td>\n",
       "      <td>yes</td>\n",
       "      <td>no</td>\n",
       "      <td>no</td>\n",
       "      <td>2</td>\n",
       "      <td>yes</td>\n",
       "      <td>semi-furnished</td>\n",
       "    </tr>\n",
       "    <tr>\n",
       "      <th>3</th>\n",
       "      <td>12215000</td>\n",
       "      <td>7500</td>\n",
       "      <td>4</td>\n",
       "      <td>2</td>\n",
       "      <td>2</td>\n",
       "      <td>yes</td>\n",
       "      <td>no</td>\n",
       "      <td>yes</td>\n",
       "      <td>no</td>\n",
       "      <td>yes</td>\n",
       "      <td>3</td>\n",
       "      <td>yes</td>\n",
       "      <td>furnished</td>\n",
       "    </tr>\n",
       "    <tr>\n",
       "      <th>4</th>\n",
       "      <td>11410000</td>\n",
       "      <td>7420</td>\n",
       "      <td>4</td>\n",
       "      <td>1</td>\n",
       "      <td>2</td>\n",
       "      <td>yes</td>\n",
       "      <td>yes</td>\n",
       "      <td>yes</td>\n",
       "      <td>no</td>\n",
       "      <td>yes</td>\n",
       "      <td>2</td>\n",
       "      <td>no</td>\n",
       "      <td>furnished</td>\n",
       "    </tr>\n",
       "  </tbody>\n",
       "</table>\n",
       "</div>"
      ],
      "text/plain": [
       "      price  area  bedrooms  bathrooms  stories mainroad guestroom basement  \\\n",
       "0  13300000  7420         4          2        3      yes        no       no   \n",
       "1  12250000  8960         4          4        4      yes        no       no   \n",
       "2  12250000  9960         3          2        2      yes        no      yes   \n",
       "3  12215000  7500         4          2        2      yes        no      yes   \n",
       "4  11410000  7420         4          1        2      yes       yes      yes   \n",
       "\n",
       "  hotwaterheating airconditioning  parking prefarea furnishingstatus  \n",
       "0              no             yes        2      yes        furnished  \n",
       "1              no             yes        3       no        furnished  \n",
       "2              no              no        2      yes   semi-furnished  \n",
       "3              no             yes        3      yes        furnished  \n",
       "4              no             yes        2       no        furnished  "
      ]
     },
     "execution_count": 78,
     "metadata": {},
     "output_type": "execute_result"
    }
   ],
   "source": [
    "#reading the input data\n",
    "data=pd.read_csv('Housing.csv')   \n",
    "data.head()   "
   ]
  },
  {
   "cell_type": "code",
   "execution_count": 79,
   "id": "9f27f9a8",
   "metadata": {},
   "outputs": [
    {
     "data": {
      "text/html": [
       "<div>\n",
       "<style scoped>\n",
       "    .dataframe tbody tr th:only-of-type {\n",
       "        vertical-align: middle;\n",
       "    }\n",
       "\n",
       "    .dataframe tbody tr th {\n",
       "        vertical-align: top;\n",
       "    }\n",
       "\n",
       "    .dataframe thead th {\n",
       "        text-align: right;\n",
       "    }\n",
       "</style>\n",
       "<table border=\"1\" class=\"dataframe\">\n",
       "  <thead>\n",
       "    <tr style=\"text-align: right;\">\n",
       "      <th></th>\n",
       "      <th>price</th>\n",
       "      <th>area</th>\n",
       "      <th>bedrooms</th>\n",
       "      <th>bathrooms</th>\n",
       "      <th>stories</th>\n",
       "      <th>mainroad</th>\n",
       "      <th>guestroom</th>\n",
       "      <th>basement</th>\n",
       "      <th>hotwaterheating</th>\n",
       "      <th>airconditioning</th>\n",
       "      <th>parking</th>\n",
       "      <th>prefarea</th>\n",
       "      <th>furnishingstatus</th>\n",
       "    </tr>\n",
       "  </thead>\n",
       "  <tbody>\n",
       "    <tr>\n",
       "      <th>540</th>\n",
       "      <td>1820000</td>\n",
       "      <td>3000</td>\n",
       "      <td>2</td>\n",
       "      <td>1</td>\n",
       "      <td>1</td>\n",
       "      <td>yes</td>\n",
       "      <td>no</td>\n",
       "      <td>yes</td>\n",
       "      <td>no</td>\n",
       "      <td>no</td>\n",
       "      <td>2</td>\n",
       "      <td>no</td>\n",
       "      <td>unfurnished</td>\n",
       "    </tr>\n",
       "    <tr>\n",
       "      <th>541</th>\n",
       "      <td>1767150</td>\n",
       "      <td>2400</td>\n",
       "      <td>3</td>\n",
       "      <td>1</td>\n",
       "      <td>1</td>\n",
       "      <td>no</td>\n",
       "      <td>no</td>\n",
       "      <td>no</td>\n",
       "      <td>no</td>\n",
       "      <td>no</td>\n",
       "      <td>0</td>\n",
       "      <td>no</td>\n",
       "      <td>semi-furnished</td>\n",
       "    </tr>\n",
       "    <tr>\n",
       "      <th>542</th>\n",
       "      <td>1750000</td>\n",
       "      <td>3620</td>\n",
       "      <td>2</td>\n",
       "      <td>1</td>\n",
       "      <td>1</td>\n",
       "      <td>yes</td>\n",
       "      <td>no</td>\n",
       "      <td>no</td>\n",
       "      <td>no</td>\n",
       "      <td>no</td>\n",
       "      <td>0</td>\n",
       "      <td>no</td>\n",
       "      <td>unfurnished</td>\n",
       "    </tr>\n",
       "    <tr>\n",
       "      <th>543</th>\n",
       "      <td>1750000</td>\n",
       "      <td>2910</td>\n",
       "      <td>3</td>\n",
       "      <td>1</td>\n",
       "      <td>1</td>\n",
       "      <td>no</td>\n",
       "      <td>no</td>\n",
       "      <td>no</td>\n",
       "      <td>no</td>\n",
       "      <td>no</td>\n",
       "      <td>0</td>\n",
       "      <td>no</td>\n",
       "      <td>furnished</td>\n",
       "    </tr>\n",
       "    <tr>\n",
       "      <th>544</th>\n",
       "      <td>1750000</td>\n",
       "      <td>3850</td>\n",
       "      <td>3</td>\n",
       "      <td>1</td>\n",
       "      <td>2</td>\n",
       "      <td>yes</td>\n",
       "      <td>no</td>\n",
       "      <td>no</td>\n",
       "      <td>no</td>\n",
       "      <td>no</td>\n",
       "      <td>0</td>\n",
       "      <td>no</td>\n",
       "      <td>unfurnished</td>\n",
       "    </tr>\n",
       "  </tbody>\n",
       "</table>\n",
       "</div>"
      ],
      "text/plain": [
       "       price  area  bedrooms  bathrooms  stories mainroad guestroom basement  \\\n",
       "540  1820000  3000         2          1        1      yes        no      yes   \n",
       "541  1767150  2400         3          1        1       no        no       no   \n",
       "542  1750000  3620         2          1        1      yes        no       no   \n",
       "543  1750000  2910         3          1        1       no        no       no   \n",
       "544  1750000  3850         3          1        2      yes        no       no   \n",
       "\n",
       "    hotwaterheating airconditioning  parking prefarea furnishingstatus  \n",
       "540              no              no        2       no      unfurnished  \n",
       "541              no              no        0       no   semi-furnished  \n",
       "542              no              no        0       no      unfurnished  \n",
       "543              no              no        0       no        furnished  \n",
       "544              no              no        0       no      unfurnished  "
      ]
     },
     "execution_count": 79,
     "metadata": {},
     "output_type": "execute_result"
    }
   ],
   "source": [
    "data.tail(5)"
   ]
  },
  {
   "attachments": {},
   "cell_type": "markdown",
   "id": "caring-sweet",
   "metadata": {
    "papermill": {
     "duration": 0.038541,
     "end_time": "2021-05-20T18:36:27.866021",
     "exception": false,
     "start_time": "2021-05-20T18:36:27.827480",
     "status": "completed"
    },
    "tags": []
   },
   "source": [
    "### **Understanding our data**"
   ]
  },
  {
   "cell_type": "code",
   "execution_count": 80,
   "id": "65cb9c92",
   "metadata": {},
   "outputs": [
    {
     "data": {
      "text/plain": [
       "(545, 13)"
      ]
     },
     "execution_count": 80,
     "metadata": {},
     "output_type": "execute_result"
    }
   ],
   "source": [
    "data.shape"
   ]
  },
  {
   "cell_type": "code",
   "execution_count": 81,
   "id": "brief-snapshot",
   "metadata": {
    "execution": {
     "iopub.execute_input": "2021-05-20T18:36:27.962548Z",
     "iopub.status.busy": "2021-05-20T18:36:27.961900Z",
     "iopub.status.idle": "2021-05-20T18:36:27.966438Z",
     "shell.execute_reply": "2021-05-20T18:36:27.966912Z",
     "shell.execute_reply.started": "2021-05-20T18:28:57.360687Z"
    },
    "papermill": {
     "duration": 0.062687,
     "end_time": "2021-05-20T18:36:27.967090",
     "exception": false,
     "start_time": "2021-05-20T18:36:27.904403",
     "status": "completed"
    },
    "tags": []
   },
   "outputs": [
    {
     "name": "stdout",
     "output_type": "stream",
     "text": [
      "<class 'pandas.core.frame.DataFrame'>\n",
      "RangeIndex: 545 entries, 0 to 544\n",
      "Data columns (total 13 columns):\n",
      " #   Column            Non-Null Count  Dtype \n",
      "---  ------            --------------  ----- \n",
      " 0   price             545 non-null    int64 \n",
      " 1   area              545 non-null    int64 \n",
      " 2   bedrooms          545 non-null    int64 \n",
      " 3   bathrooms         545 non-null    int64 \n",
      " 4   stories           545 non-null    int64 \n",
      " 5   mainroad          545 non-null    object\n",
      " 6   guestroom         545 non-null    object\n",
      " 7   basement          545 non-null    object\n",
      " 8   hotwaterheating   545 non-null    object\n",
      " 9   airconditioning   545 non-null    object\n",
      " 10  parking           545 non-null    int64 \n",
      " 11  prefarea          545 non-null    object\n",
      " 12  furnishingstatus  545 non-null    object\n",
      "dtypes: int64(6), object(7)\n",
      "memory usage: 55.5+ KB\n"
     ]
    }
   ],
   "source": [
    "data.info()"
   ]
  },
  {
   "cell_type": "code",
   "execution_count": 82,
   "id": "traditional-dairy",
   "metadata": {
    "execution": {
     "iopub.execute_input": "2021-05-20T18:36:28.050550Z",
     "iopub.status.busy": "2021-05-20T18:36:28.049889Z",
     "iopub.status.idle": "2021-05-20T18:36:28.113689Z",
     "shell.execute_reply": "2021-05-20T18:36:28.113066Z",
     "shell.execute_reply.started": "2021-05-20T18:28:57.384722Z"
    },
    "papermill": {
     "duration": 0.108473,
     "end_time": "2021-05-20T18:36:28.113860",
     "exception": false,
     "start_time": "2021-05-20T18:36:28.005387",
     "status": "completed"
    },
    "tags": []
   },
   "outputs": [
    {
     "data": {
      "text/html": [
       "<div>\n",
       "<style scoped>\n",
       "    .dataframe tbody tr th:only-of-type {\n",
       "        vertical-align: middle;\n",
       "    }\n",
       "\n",
       "    .dataframe tbody tr th {\n",
       "        vertical-align: top;\n",
       "    }\n",
       "\n",
       "    .dataframe thead th {\n",
       "        text-align: right;\n",
       "    }\n",
       "</style>\n",
       "<table border=\"1\" class=\"dataframe\">\n",
       "  <thead>\n",
       "    <tr style=\"text-align: right;\">\n",
       "      <th></th>\n",
       "      <th>price</th>\n",
       "      <th>area</th>\n",
       "      <th>bedrooms</th>\n",
       "      <th>bathrooms</th>\n",
       "      <th>stories</th>\n",
       "      <th>mainroad</th>\n",
       "      <th>guestroom</th>\n",
       "      <th>basement</th>\n",
       "      <th>hotwaterheating</th>\n",
       "      <th>airconditioning</th>\n",
       "      <th>parking</th>\n",
       "      <th>prefarea</th>\n",
       "      <th>furnishingstatus</th>\n",
       "    </tr>\n",
       "  </thead>\n",
       "  <tbody>\n",
       "    <tr>\n",
       "      <th>count</th>\n",
       "      <td>5.450000e+02</td>\n",
       "      <td>545.000000</td>\n",
       "      <td>545.000000</td>\n",
       "      <td>545.000000</td>\n",
       "      <td>545.000000</td>\n",
       "      <td>545</td>\n",
       "      <td>545</td>\n",
       "      <td>545</td>\n",
       "      <td>545</td>\n",
       "      <td>545</td>\n",
       "      <td>545.000000</td>\n",
       "      <td>545</td>\n",
       "      <td>545</td>\n",
       "    </tr>\n",
       "    <tr>\n",
       "      <th>unique</th>\n",
       "      <td>NaN</td>\n",
       "      <td>NaN</td>\n",
       "      <td>NaN</td>\n",
       "      <td>NaN</td>\n",
       "      <td>NaN</td>\n",
       "      <td>2</td>\n",
       "      <td>2</td>\n",
       "      <td>2</td>\n",
       "      <td>2</td>\n",
       "      <td>2</td>\n",
       "      <td>NaN</td>\n",
       "      <td>2</td>\n",
       "      <td>3</td>\n",
       "    </tr>\n",
       "    <tr>\n",
       "      <th>top</th>\n",
       "      <td>NaN</td>\n",
       "      <td>NaN</td>\n",
       "      <td>NaN</td>\n",
       "      <td>NaN</td>\n",
       "      <td>NaN</td>\n",
       "      <td>yes</td>\n",
       "      <td>no</td>\n",
       "      <td>no</td>\n",
       "      <td>no</td>\n",
       "      <td>no</td>\n",
       "      <td>NaN</td>\n",
       "      <td>no</td>\n",
       "      <td>semi-furnished</td>\n",
       "    </tr>\n",
       "    <tr>\n",
       "      <th>freq</th>\n",
       "      <td>NaN</td>\n",
       "      <td>NaN</td>\n",
       "      <td>NaN</td>\n",
       "      <td>NaN</td>\n",
       "      <td>NaN</td>\n",
       "      <td>468</td>\n",
       "      <td>448</td>\n",
       "      <td>354</td>\n",
       "      <td>520</td>\n",
       "      <td>373</td>\n",
       "      <td>NaN</td>\n",
       "      <td>417</td>\n",
       "      <td>227</td>\n",
       "    </tr>\n",
       "    <tr>\n",
       "      <th>mean</th>\n",
       "      <td>4.766729e+06</td>\n",
       "      <td>5150.541284</td>\n",
       "      <td>2.965138</td>\n",
       "      <td>1.286239</td>\n",
       "      <td>1.805505</td>\n",
       "      <td>NaN</td>\n",
       "      <td>NaN</td>\n",
       "      <td>NaN</td>\n",
       "      <td>NaN</td>\n",
       "      <td>NaN</td>\n",
       "      <td>0.693578</td>\n",
       "      <td>NaN</td>\n",
       "      <td>NaN</td>\n",
       "    </tr>\n",
       "    <tr>\n",
       "      <th>std</th>\n",
       "      <td>1.870440e+06</td>\n",
       "      <td>2170.141023</td>\n",
       "      <td>0.738064</td>\n",
       "      <td>0.502470</td>\n",
       "      <td>0.867492</td>\n",
       "      <td>NaN</td>\n",
       "      <td>NaN</td>\n",
       "      <td>NaN</td>\n",
       "      <td>NaN</td>\n",
       "      <td>NaN</td>\n",
       "      <td>0.861586</td>\n",
       "      <td>NaN</td>\n",
       "      <td>NaN</td>\n",
       "    </tr>\n",
       "    <tr>\n",
       "      <th>min</th>\n",
       "      <td>1.750000e+06</td>\n",
       "      <td>1650.000000</td>\n",
       "      <td>1.000000</td>\n",
       "      <td>1.000000</td>\n",
       "      <td>1.000000</td>\n",
       "      <td>NaN</td>\n",
       "      <td>NaN</td>\n",
       "      <td>NaN</td>\n",
       "      <td>NaN</td>\n",
       "      <td>NaN</td>\n",
       "      <td>0.000000</td>\n",
       "      <td>NaN</td>\n",
       "      <td>NaN</td>\n",
       "    </tr>\n",
       "    <tr>\n",
       "      <th>25%</th>\n",
       "      <td>3.430000e+06</td>\n",
       "      <td>3600.000000</td>\n",
       "      <td>2.000000</td>\n",
       "      <td>1.000000</td>\n",
       "      <td>1.000000</td>\n",
       "      <td>NaN</td>\n",
       "      <td>NaN</td>\n",
       "      <td>NaN</td>\n",
       "      <td>NaN</td>\n",
       "      <td>NaN</td>\n",
       "      <td>0.000000</td>\n",
       "      <td>NaN</td>\n",
       "      <td>NaN</td>\n",
       "    </tr>\n",
       "    <tr>\n",
       "      <th>50%</th>\n",
       "      <td>4.340000e+06</td>\n",
       "      <td>4600.000000</td>\n",
       "      <td>3.000000</td>\n",
       "      <td>1.000000</td>\n",
       "      <td>2.000000</td>\n",
       "      <td>NaN</td>\n",
       "      <td>NaN</td>\n",
       "      <td>NaN</td>\n",
       "      <td>NaN</td>\n",
       "      <td>NaN</td>\n",
       "      <td>0.000000</td>\n",
       "      <td>NaN</td>\n",
       "      <td>NaN</td>\n",
       "    </tr>\n",
       "    <tr>\n",
       "      <th>75%</th>\n",
       "      <td>5.740000e+06</td>\n",
       "      <td>6360.000000</td>\n",
       "      <td>3.000000</td>\n",
       "      <td>2.000000</td>\n",
       "      <td>2.000000</td>\n",
       "      <td>NaN</td>\n",
       "      <td>NaN</td>\n",
       "      <td>NaN</td>\n",
       "      <td>NaN</td>\n",
       "      <td>NaN</td>\n",
       "      <td>1.000000</td>\n",
       "      <td>NaN</td>\n",
       "      <td>NaN</td>\n",
       "    </tr>\n",
       "    <tr>\n",
       "      <th>max</th>\n",
       "      <td>1.330000e+07</td>\n",
       "      <td>16200.000000</td>\n",
       "      <td>6.000000</td>\n",
       "      <td>4.000000</td>\n",
       "      <td>4.000000</td>\n",
       "      <td>NaN</td>\n",
       "      <td>NaN</td>\n",
       "      <td>NaN</td>\n",
       "      <td>NaN</td>\n",
       "      <td>NaN</td>\n",
       "      <td>3.000000</td>\n",
       "      <td>NaN</td>\n",
       "      <td>NaN</td>\n",
       "    </tr>\n",
       "  </tbody>\n",
       "</table>\n",
       "</div>"
      ],
      "text/plain": [
       "               price          area    bedrooms   bathrooms     stories  \\\n",
       "count   5.450000e+02    545.000000  545.000000  545.000000  545.000000   \n",
       "unique           NaN           NaN         NaN         NaN         NaN   \n",
       "top              NaN           NaN         NaN         NaN         NaN   \n",
       "freq             NaN           NaN         NaN         NaN         NaN   \n",
       "mean    4.766729e+06   5150.541284    2.965138    1.286239    1.805505   \n",
       "std     1.870440e+06   2170.141023    0.738064    0.502470    0.867492   \n",
       "min     1.750000e+06   1650.000000    1.000000    1.000000    1.000000   \n",
       "25%     3.430000e+06   3600.000000    2.000000    1.000000    1.000000   \n",
       "50%     4.340000e+06   4600.000000    3.000000    1.000000    2.000000   \n",
       "75%     5.740000e+06   6360.000000    3.000000    2.000000    2.000000   \n",
       "max     1.330000e+07  16200.000000    6.000000    4.000000    4.000000   \n",
       "\n",
       "       mainroad guestroom basement hotwaterheating airconditioning  \\\n",
       "count       545       545      545             545             545   \n",
       "unique        2         2        2               2               2   \n",
       "top         yes        no       no              no              no   \n",
       "freq        468       448      354             520             373   \n",
       "mean        NaN       NaN      NaN             NaN             NaN   \n",
       "std         NaN       NaN      NaN             NaN             NaN   \n",
       "min         NaN       NaN      NaN             NaN             NaN   \n",
       "25%         NaN       NaN      NaN             NaN             NaN   \n",
       "50%         NaN       NaN      NaN             NaN             NaN   \n",
       "75%         NaN       NaN      NaN             NaN             NaN   \n",
       "max         NaN       NaN      NaN             NaN             NaN   \n",
       "\n",
       "           parking prefarea furnishingstatus  \n",
       "count   545.000000      545              545  \n",
       "unique         NaN        2                3  \n",
       "top            NaN       no   semi-furnished  \n",
       "freq           NaN      417              227  \n",
       "mean      0.693578      NaN              NaN  \n",
       "std       0.861586      NaN              NaN  \n",
       "min       0.000000      NaN              NaN  \n",
       "25%       0.000000      NaN              NaN  \n",
       "50%       0.000000      NaN              NaN  \n",
       "75%       1.000000      NaN              NaN  \n",
       "max       3.000000      NaN              NaN  "
      ]
     },
     "execution_count": 82,
     "metadata": {},
     "output_type": "execute_result"
    }
   ],
   "source": [
    "data.describe(include ='all')   #parameter include=all will display NaN values as well"
   ]
  },
  {
   "attachments": {},
   "cell_type": "markdown",
   "id": "driven-layer",
   "metadata": {
    "papermill": {
     "duration": 0.03938,
     "end_time": "2021-05-20T18:36:28.192439",
     "exception": false,
     "start_time": "2021-05-20T18:36:28.153059",
     "status": "completed"
    },
    "tags": []
   },
   "source": [
    "### **Checking for NULL values**"
   ]
  },
  {
   "cell_type": "code",
   "execution_count": 83,
   "id": "cultural-original",
   "metadata": {
    "execution": {
     "iopub.execute_input": "2021-05-20T18:36:28.279657Z",
     "iopub.status.busy": "2021-05-20T18:36:28.279016Z",
     "iopub.status.idle": "2021-05-20T18:36:28.282974Z",
     "shell.execute_reply": "2021-05-20T18:36:28.282345Z",
     "shell.execute_reply.started": "2021-05-20T18:28:57.455098Z"
    },
    "papermill": {
     "duration": 0.050581,
     "end_time": "2021-05-20T18:36:28.283113",
     "exception": false,
     "start_time": "2021-05-20T18:36:28.232532",
     "status": "completed"
    },
    "tags": []
   },
   "outputs": [
    {
     "data": {
      "text/plain": [
       "price               0\n",
       "area                0\n",
       "bedrooms            0\n",
       "bathrooms           0\n",
       "stories             0\n",
       "mainroad            0\n",
       "guestroom           0\n",
       "basement            0\n",
       "hotwaterheating     0\n",
       "airconditioning     0\n",
       "parking             0\n",
       "prefarea            0\n",
       "furnishingstatus    0\n",
       "dtype: int64"
      ]
     },
     "execution_count": 83,
     "metadata": {},
     "output_type": "execute_result"
    }
   ],
   "source": [
    "data.isnull().sum() # No null values"
   ]
  },
  {
   "attachments": {},
   "cell_type": "markdown",
   "id": "remarkable-oakland",
   "metadata": {
    "papermill": {
     "duration": 0.039344,
     "end_time": "2021-05-20T18:36:28.361873",
     "exception": false,
     "start_time": "2021-05-20T18:36:28.322529",
     "status": "completed"
    },
    "tags": []
   },
   "source": [
    "### **Data Preparation**"
   ]
  },
  {
   "attachments": {},
   "cell_type": "markdown",
   "id": "competitive-february",
   "metadata": {
    "papermill": {
     "duration": 0.038943,
     "end_time": "2021-05-20T18:36:28.440182",
     "exception": false,
     "start_time": "2021-05-20T18:36:28.401239",
     "status": "completed"
    },
    "tags": []
   },
   "source": [
    "a) YES/NO categories"
   ]
  },
  {
   "cell_type": "markdown",
   "id": "northern-stick",
   "metadata": {
    "papermill": {
     "duration": 0.038969,
     "end_time": "2021-05-20T18:36:28.518386",
     "exception": false,
     "start_time": "2021-05-20T18:36:28.479417",
     "status": "completed"
    },
    "tags": []
   },
   "source": [
    "It is seen that there are some columns with categorical values like 'YES' or 'NO'. We need to change them to 0 and 1"
   ]
  },
  {
   "cell_type": "code",
   "execution_count": 84,
   "id": "c697d83d",
   "metadata": {},
   "outputs": [],
   "source": [
    "#first fetch all the categorical columns with Yes and NO\n",
    "categorical =  ['mainroad', 'guestroom', 'basement', 'hotwaterheating', 'airconditioning', 'prefarea']"
   ]
  },
  {
   "cell_type": "code",
   "execution_count": 85,
   "id": "96ef2b3e",
   "metadata": {},
   "outputs": [
    {
     "data": {
      "text/html": [
       "<div>\n",
       "<style scoped>\n",
       "    .dataframe tbody tr th:only-of-type {\n",
       "        vertical-align: middle;\n",
       "    }\n",
       "\n",
       "    .dataframe tbody tr th {\n",
       "        vertical-align: top;\n",
       "    }\n",
       "\n",
       "    .dataframe thead th {\n",
       "        text-align: right;\n",
       "    }\n",
       "</style>\n",
       "<table border=\"1\" class=\"dataframe\">\n",
       "  <thead>\n",
       "    <tr style=\"text-align: right;\">\n",
       "      <th></th>\n",
       "      <th>mainroad</th>\n",
       "      <th>guestroom</th>\n",
       "      <th>basement</th>\n",
       "      <th>hotwaterheating</th>\n",
       "      <th>airconditioning</th>\n",
       "      <th>prefarea</th>\n",
       "    </tr>\n",
       "  </thead>\n",
       "  <tbody>\n",
       "    <tr>\n",
       "      <th>0</th>\n",
       "      <td>yes</td>\n",
       "      <td>no</td>\n",
       "      <td>no</td>\n",
       "      <td>no</td>\n",
       "      <td>yes</td>\n",
       "      <td>yes</td>\n",
       "    </tr>\n",
       "    <tr>\n",
       "      <th>1</th>\n",
       "      <td>yes</td>\n",
       "      <td>no</td>\n",
       "      <td>no</td>\n",
       "      <td>no</td>\n",
       "      <td>yes</td>\n",
       "      <td>no</td>\n",
       "    </tr>\n",
       "    <tr>\n",
       "      <th>2</th>\n",
       "      <td>yes</td>\n",
       "      <td>no</td>\n",
       "      <td>yes</td>\n",
       "      <td>no</td>\n",
       "      <td>no</td>\n",
       "      <td>yes</td>\n",
       "    </tr>\n",
       "    <tr>\n",
       "      <th>3</th>\n",
       "      <td>yes</td>\n",
       "      <td>no</td>\n",
       "      <td>yes</td>\n",
       "      <td>no</td>\n",
       "      <td>yes</td>\n",
       "      <td>yes</td>\n",
       "    </tr>\n",
       "    <tr>\n",
       "      <th>4</th>\n",
       "      <td>yes</td>\n",
       "      <td>yes</td>\n",
       "      <td>yes</td>\n",
       "      <td>no</td>\n",
       "      <td>yes</td>\n",
       "      <td>no</td>\n",
       "    </tr>\n",
       "    <tr>\n",
       "      <th>...</th>\n",
       "      <td>...</td>\n",
       "      <td>...</td>\n",
       "      <td>...</td>\n",
       "      <td>...</td>\n",
       "      <td>...</td>\n",
       "      <td>...</td>\n",
       "    </tr>\n",
       "    <tr>\n",
       "      <th>540</th>\n",
       "      <td>yes</td>\n",
       "      <td>no</td>\n",
       "      <td>yes</td>\n",
       "      <td>no</td>\n",
       "      <td>no</td>\n",
       "      <td>no</td>\n",
       "    </tr>\n",
       "    <tr>\n",
       "      <th>541</th>\n",
       "      <td>no</td>\n",
       "      <td>no</td>\n",
       "      <td>no</td>\n",
       "      <td>no</td>\n",
       "      <td>no</td>\n",
       "      <td>no</td>\n",
       "    </tr>\n",
       "    <tr>\n",
       "      <th>542</th>\n",
       "      <td>yes</td>\n",
       "      <td>no</td>\n",
       "      <td>no</td>\n",
       "      <td>no</td>\n",
       "      <td>no</td>\n",
       "      <td>no</td>\n",
       "    </tr>\n",
       "    <tr>\n",
       "      <th>543</th>\n",
       "      <td>no</td>\n",
       "      <td>no</td>\n",
       "      <td>no</td>\n",
       "      <td>no</td>\n",
       "      <td>no</td>\n",
       "      <td>no</td>\n",
       "    </tr>\n",
       "    <tr>\n",
       "      <th>544</th>\n",
       "      <td>yes</td>\n",
       "      <td>no</td>\n",
       "      <td>no</td>\n",
       "      <td>no</td>\n",
       "      <td>no</td>\n",
       "      <td>no</td>\n",
       "    </tr>\n",
       "  </tbody>\n",
       "</table>\n",
       "<p>545 rows × 6 columns</p>\n",
       "</div>"
      ],
      "text/plain": [
       "    mainroad guestroom basement hotwaterheating airconditioning prefarea\n",
       "0        yes        no       no              no             yes      yes\n",
       "1        yes        no       no              no             yes       no\n",
       "2        yes        no      yes              no              no      yes\n",
       "3        yes        no      yes              no             yes      yes\n",
       "4        yes       yes      yes              no             yes       no\n",
       "..       ...       ...      ...             ...             ...      ...\n",
       "540      yes        no      yes              no              no       no\n",
       "541       no        no       no              no              no       no\n",
       "542      yes        no       no              no              no       no\n",
       "543       no        no       no              no              no       no\n",
       "544      yes        no       no              no              no       no\n",
       "\n",
       "[545 rows x 6 columns]"
      ]
     },
     "execution_count": 85,
     "metadata": {},
     "output_type": "execute_result"
    }
   ],
   "source": [
    "data[categorical]"
   ]
  },
  {
   "cell_type": "code",
   "execution_count": 86,
   "id": "3a0ae0f9",
   "metadata": {},
   "outputs": [],
   "source": [
    "#function to change yes to 1 and no to 0\n",
    "def binary_map(x):\n",
    "    return x.map({'yes': 1, \"no\": 0})"
   ]
  },
  {
   "cell_type": "code",
   "execution_count": 87,
   "id": "provincial-laptop",
   "metadata": {
    "execution": {
     "iopub.execute_input": "2021-05-20T18:36:28.617007Z",
     "iopub.status.busy": "2021-05-20T18:36:28.615608Z",
     "iopub.status.idle": "2021-05-20T18:36:28.635448Z",
     "shell.execute_reply": "2021-05-20T18:36:28.636210Z",
     "shell.execute_reply.started": "2021-05-20T18:28:57.469327Z"
    },
    "papermill": {
     "duration": 0.078738,
     "end_time": "2021-05-20T18:36:28.636438",
     "exception": false,
     "start_time": "2021-05-20T18:36:28.557700",
     "status": "completed"
    },
    "tags": []
   },
   "outputs": [
    {
     "data": {
      "text/html": [
       "<div>\n",
       "<style scoped>\n",
       "    .dataframe tbody tr th:only-of-type {\n",
       "        vertical-align: middle;\n",
       "    }\n",
       "\n",
       "    .dataframe tbody tr th {\n",
       "        vertical-align: top;\n",
       "    }\n",
       "\n",
       "    .dataframe thead th {\n",
       "        text-align: right;\n",
       "    }\n",
       "</style>\n",
       "<table border=\"1\" class=\"dataframe\">\n",
       "  <thead>\n",
       "    <tr style=\"text-align: right;\">\n",
       "      <th></th>\n",
       "      <th>mainroad</th>\n",
       "      <th>guestroom</th>\n",
       "      <th>basement</th>\n",
       "      <th>hotwaterheating</th>\n",
       "      <th>airconditioning</th>\n",
       "      <th>prefarea</th>\n",
       "    </tr>\n",
       "  </thead>\n",
       "  <tbody>\n",
       "    <tr>\n",
       "      <th>0</th>\n",
       "      <td>1</td>\n",
       "      <td>0</td>\n",
       "      <td>0</td>\n",
       "      <td>0</td>\n",
       "      <td>1</td>\n",
       "      <td>1</td>\n",
       "    </tr>\n",
       "    <tr>\n",
       "      <th>1</th>\n",
       "      <td>1</td>\n",
       "      <td>0</td>\n",
       "      <td>0</td>\n",
       "      <td>0</td>\n",
       "      <td>1</td>\n",
       "      <td>0</td>\n",
       "    </tr>\n",
       "    <tr>\n",
       "      <th>2</th>\n",
       "      <td>1</td>\n",
       "      <td>0</td>\n",
       "      <td>1</td>\n",
       "      <td>0</td>\n",
       "      <td>0</td>\n",
       "      <td>1</td>\n",
       "    </tr>\n",
       "    <tr>\n",
       "      <th>3</th>\n",
       "      <td>1</td>\n",
       "      <td>0</td>\n",
       "      <td>1</td>\n",
       "      <td>0</td>\n",
       "      <td>1</td>\n",
       "      <td>1</td>\n",
       "    </tr>\n",
       "    <tr>\n",
       "      <th>4</th>\n",
       "      <td>1</td>\n",
       "      <td>1</td>\n",
       "      <td>1</td>\n",
       "      <td>0</td>\n",
       "      <td>1</td>\n",
       "      <td>0</td>\n",
       "    </tr>\n",
       "    <tr>\n",
       "      <th>...</th>\n",
       "      <td>...</td>\n",
       "      <td>...</td>\n",
       "      <td>...</td>\n",
       "      <td>...</td>\n",
       "      <td>...</td>\n",
       "      <td>...</td>\n",
       "    </tr>\n",
       "    <tr>\n",
       "      <th>540</th>\n",
       "      <td>1</td>\n",
       "      <td>0</td>\n",
       "      <td>1</td>\n",
       "      <td>0</td>\n",
       "      <td>0</td>\n",
       "      <td>0</td>\n",
       "    </tr>\n",
       "    <tr>\n",
       "      <th>541</th>\n",
       "      <td>0</td>\n",
       "      <td>0</td>\n",
       "      <td>0</td>\n",
       "      <td>0</td>\n",
       "      <td>0</td>\n",
       "      <td>0</td>\n",
       "    </tr>\n",
       "    <tr>\n",
       "      <th>542</th>\n",
       "      <td>1</td>\n",
       "      <td>0</td>\n",
       "      <td>0</td>\n",
       "      <td>0</td>\n",
       "      <td>0</td>\n",
       "      <td>0</td>\n",
       "    </tr>\n",
       "    <tr>\n",
       "      <th>543</th>\n",
       "      <td>0</td>\n",
       "      <td>0</td>\n",
       "      <td>0</td>\n",
       "      <td>0</td>\n",
       "      <td>0</td>\n",
       "      <td>0</td>\n",
       "    </tr>\n",
       "    <tr>\n",
       "      <th>544</th>\n",
       "      <td>1</td>\n",
       "      <td>0</td>\n",
       "      <td>0</td>\n",
       "      <td>0</td>\n",
       "      <td>0</td>\n",
       "      <td>0</td>\n",
       "    </tr>\n",
       "  </tbody>\n",
       "</table>\n",
       "<p>545 rows × 6 columns</p>\n",
       "</div>"
      ],
      "text/plain": [
       "     mainroad  guestroom  basement  hotwaterheating  airconditioning  prefarea\n",
       "0           1          0         0                0                1         1\n",
       "1           1          0         0                0                1         0\n",
       "2           1          0         1                0                0         1\n",
       "3           1          0         1                0                1         1\n",
       "4           1          1         1                0                1         0\n",
       "..        ...        ...       ...              ...              ...       ...\n",
       "540         1          0         1                0                0         0\n",
       "541         0          0         0                0                0         0\n",
       "542         1          0         0                0                0         0\n",
       "543         0          0         0                0                0         0\n",
       "544         1          0         0                0                0         0\n",
       "\n",
       "[545 rows x 6 columns]"
      ]
     },
     "execution_count": 87,
     "metadata": {},
     "output_type": "execute_result"
    }
   ],
   "source": [
    "# now replace yes and no with 1 and 0 in our dataset\n",
    "data[categorical] = data[categorical].apply(binary_map)\n",
    "data[categorical]"
   ]
  },
  {
   "cell_type": "code",
   "execution_count": 88,
   "id": "expensive-history",
   "metadata": {
    "execution": {
     "iopub.execute_input": "2021-05-20T18:36:28.734207Z",
     "iopub.status.busy": "2021-05-20T18:36:28.733501Z",
     "iopub.status.idle": "2021-05-20T18:36:28.740286Z",
     "shell.execute_reply": "2021-05-20T18:36:28.739784Z",
     "shell.execute_reply.started": "2021-05-20T18:28:57.489336Z"
    },
    "papermill": {
     "duration": 0.059291,
     "end_time": "2021-05-20T18:36:28.740422",
     "exception": false,
     "start_time": "2021-05-20T18:36:28.681131",
     "status": "completed"
    },
    "tags": []
   },
   "outputs": [
    {
     "data": {
      "text/html": [
       "<div>\n",
       "<style scoped>\n",
       "    .dataframe tbody tr th:only-of-type {\n",
       "        vertical-align: middle;\n",
       "    }\n",
       "\n",
       "    .dataframe tbody tr th {\n",
       "        vertical-align: top;\n",
       "    }\n",
       "\n",
       "    .dataframe thead th {\n",
       "        text-align: right;\n",
       "    }\n",
       "</style>\n",
       "<table border=\"1\" class=\"dataframe\">\n",
       "  <thead>\n",
       "    <tr style=\"text-align: right;\">\n",
       "      <th></th>\n",
       "      <th>price</th>\n",
       "      <th>area</th>\n",
       "      <th>bedrooms</th>\n",
       "      <th>bathrooms</th>\n",
       "      <th>stories</th>\n",
       "      <th>mainroad</th>\n",
       "      <th>guestroom</th>\n",
       "      <th>basement</th>\n",
       "      <th>hotwaterheating</th>\n",
       "      <th>airconditioning</th>\n",
       "      <th>parking</th>\n",
       "      <th>prefarea</th>\n",
       "      <th>furnishingstatus</th>\n",
       "    </tr>\n",
       "  </thead>\n",
       "  <tbody>\n",
       "    <tr>\n",
       "      <th>0</th>\n",
       "      <td>13300000</td>\n",
       "      <td>7420</td>\n",
       "      <td>4</td>\n",
       "      <td>2</td>\n",
       "      <td>3</td>\n",
       "      <td>1</td>\n",
       "      <td>0</td>\n",
       "      <td>0</td>\n",
       "      <td>0</td>\n",
       "      <td>1</td>\n",
       "      <td>2</td>\n",
       "      <td>1</td>\n",
       "      <td>furnished</td>\n",
       "    </tr>\n",
       "    <tr>\n",
       "      <th>1</th>\n",
       "      <td>12250000</td>\n",
       "      <td>8960</td>\n",
       "      <td>4</td>\n",
       "      <td>4</td>\n",
       "      <td>4</td>\n",
       "      <td>1</td>\n",
       "      <td>0</td>\n",
       "      <td>0</td>\n",
       "      <td>0</td>\n",
       "      <td>1</td>\n",
       "      <td>3</td>\n",
       "      <td>0</td>\n",
       "      <td>furnished</td>\n",
       "    </tr>\n",
       "    <tr>\n",
       "      <th>2</th>\n",
       "      <td>12250000</td>\n",
       "      <td>9960</td>\n",
       "      <td>3</td>\n",
       "      <td>2</td>\n",
       "      <td>2</td>\n",
       "      <td>1</td>\n",
       "      <td>0</td>\n",
       "      <td>1</td>\n",
       "      <td>0</td>\n",
       "      <td>0</td>\n",
       "      <td>2</td>\n",
       "      <td>1</td>\n",
       "      <td>semi-furnished</td>\n",
       "    </tr>\n",
       "    <tr>\n",
       "      <th>3</th>\n",
       "      <td>12215000</td>\n",
       "      <td>7500</td>\n",
       "      <td>4</td>\n",
       "      <td>2</td>\n",
       "      <td>2</td>\n",
       "      <td>1</td>\n",
       "      <td>0</td>\n",
       "      <td>1</td>\n",
       "      <td>0</td>\n",
       "      <td>1</td>\n",
       "      <td>3</td>\n",
       "      <td>1</td>\n",
       "      <td>furnished</td>\n",
       "    </tr>\n",
       "    <tr>\n",
       "      <th>4</th>\n",
       "      <td>11410000</td>\n",
       "      <td>7420</td>\n",
       "      <td>4</td>\n",
       "      <td>1</td>\n",
       "      <td>2</td>\n",
       "      <td>1</td>\n",
       "      <td>1</td>\n",
       "      <td>1</td>\n",
       "      <td>0</td>\n",
       "      <td>1</td>\n",
       "      <td>2</td>\n",
       "      <td>0</td>\n",
       "      <td>furnished</td>\n",
       "    </tr>\n",
       "  </tbody>\n",
       "</table>\n",
       "</div>"
      ],
      "text/plain": [
       "      price  area  bedrooms  bathrooms  stories  mainroad  guestroom  \\\n",
       "0  13300000  7420         4          2        3         1          0   \n",
       "1  12250000  8960         4          4        4         1          0   \n",
       "2  12250000  9960         3          2        2         1          0   \n",
       "3  12215000  7500         4          2        2         1          0   \n",
       "4  11410000  7420         4          1        2         1          1   \n",
       "\n",
       "   basement  hotwaterheating  airconditioning  parking  prefarea  \\\n",
       "0         0                0                1        2         1   \n",
       "1         0                0                1        3         0   \n",
       "2         1                0                0        2         1   \n",
       "3         1                0                1        3         1   \n",
       "4         1                0                1        2         0   \n",
       "\n",
       "  furnishingstatus  \n",
       "0        furnished  \n",
       "1        furnished  \n",
       "2   semi-furnished  \n",
       "3        furnished  \n",
       "4        furnished  "
      ]
     },
     "execution_count": 88,
     "metadata": {},
     "output_type": "execute_result"
    }
   ],
   "source": [
    "data.head()"
   ]
  },
  {
   "attachments": {},
   "cell_type": "markdown",
   "id": "commercial-instrumentation",
   "metadata": {
    "papermill": {
     "duration": 0.041076,
     "end_time": "2021-05-20T18:36:28.823028",
     "exception": false,
     "start_time": "2021-05-20T18:36:28.781952",
     "status": "completed"
    },
    "tags": []
   },
   "source": [
    "b) Dummy variable"
   ]
  },
  {
   "cell_type": "markdown",
   "id": "packed-manhattan",
   "metadata": {
    "papermill": {
     "duration": 0.040342,
     "end_time": "2021-05-20T18:36:28.904091",
     "exception": false,
     "start_time": "2021-05-20T18:36:28.863749",
     "status": "completed"
    },
    "tags": []
   },
   "source": [
    "Dummy Variables - Now the last column(furnishingstatus) has 3 categories i.e. furnished,semi-furnished and unfurnished. We need to convert this to numbers as well"
   ]
  },
  {
   "cell_type": "code",
   "execution_count": 89,
   "id": "critical-split",
   "metadata": {
    "execution": {
     "iopub.execute_input": "2021-05-20T18:36:28.990215Z",
     "iopub.status.busy": "2021-05-20T18:36:28.989559Z",
     "iopub.status.idle": "2021-05-20T18:36:28.999157Z",
     "shell.execute_reply": "2021-05-20T18:36:28.998472Z",
     "shell.execute_reply.started": "2021-05-20T18:28:57.506814Z"
    },
    "papermill": {
     "duration": 0.054941,
     "end_time": "2021-05-20T18:36:28.999309",
     "exception": false,
     "start_time": "2021-05-20T18:36:28.944368",
     "status": "completed"
    },
    "tags": []
   },
   "outputs": [
    {
     "data": {
      "text/html": [
       "<div>\n",
       "<style scoped>\n",
       "    .dataframe tbody tr th:only-of-type {\n",
       "        vertical-align: middle;\n",
       "    }\n",
       "\n",
       "    .dataframe tbody tr th {\n",
       "        vertical-align: top;\n",
       "    }\n",
       "\n",
       "    .dataframe thead th {\n",
       "        text-align: right;\n",
       "    }\n",
       "</style>\n",
       "<table border=\"1\" class=\"dataframe\">\n",
       "  <thead>\n",
       "    <tr style=\"text-align: right;\">\n",
       "      <th></th>\n",
       "      <th>furnished</th>\n",
       "      <th>semi-furnished</th>\n",
       "      <th>unfurnished</th>\n",
       "    </tr>\n",
       "  </thead>\n",
       "  <tbody>\n",
       "    <tr>\n",
       "      <th>0</th>\n",
       "      <td>1</td>\n",
       "      <td>0</td>\n",
       "      <td>0</td>\n",
       "    </tr>\n",
       "    <tr>\n",
       "      <th>1</th>\n",
       "      <td>1</td>\n",
       "      <td>0</td>\n",
       "      <td>0</td>\n",
       "    </tr>\n",
       "    <tr>\n",
       "      <th>2</th>\n",
       "      <td>0</td>\n",
       "      <td>1</td>\n",
       "      <td>0</td>\n",
       "    </tr>\n",
       "    <tr>\n",
       "      <th>3</th>\n",
       "      <td>1</td>\n",
       "      <td>0</td>\n",
       "      <td>0</td>\n",
       "    </tr>\n",
       "    <tr>\n",
       "      <th>4</th>\n",
       "      <td>1</td>\n",
       "      <td>0</td>\n",
       "      <td>0</td>\n",
       "    </tr>\n",
       "  </tbody>\n",
       "</table>\n",
       "</div>"
      ],
      "text/plain": [
       "   furnished  semi-furnished  unfurnished\n",
       "0          1               0            0\n",
       "1          1               0            0\n",
       "2          0               1            0\n",
       "3          1               0            0\n",
       "4          1               0            0"
      ]
     },
     "execution_count": 89,
     "metadata": {},
     "output_type": "execute_result"
    }
   ],
   "source": [
    "table = pd.get_dummies(data['furnishingstatus'])   #add the column into table variable\n",
    "table.head()"
   ]
  },
  {
   "cell_type": "markdown",
   "id": "spatial-newcastle",
   "metadata": {
    "papermill": {
     "duration": 0.040676,
     "end_time": "2021-05-20T18:36:29.081741",
     "exception": false,
     "start_time": "2021-05-20T18:36:29.041065",
     "status": "completed"
    },
    "tags": []
   },
   "source": [
    "furnished will be 00 and to avoid redudency we drop it. semi-furnished will be 10 and unfurnished will be 01"
   ]
  },
  {
   "cell_type": "code",
   "execution_count": 90,
   "id": "brown-incident",
   "metadata": {
    "execution": {
     "iopub.execute_input": "2021-05-20T18:36:29.172224Z",
     "iopub.status.busy": "2021-05-20T18:36:29.167805Z",
     "iopub.status.idle": "2021-05-20T18:36:29.176208Z",
     "shell.execute_reply": "2021-05-20T18:36:29.175667Z",
     "shell.execute_reply.started": "2021-05-20T18:28:57.530681Z"
    },
    "papermill": {
     "duration": 0.054083,
     "end_time": "2021-05-20T18:36:29.176354",
     "exception": false,
     "start_time": "2021-05-20T18:36:29.122271",
     "status": "completed"
    },
    "tags": []
   },
   "outputs": [
    {
     "data": {
      "text/html": [
       "<div>\n",
       "<style scoped>\n",
       "    .dataframe tbody tr th:only-of-type {\n",
       "        vertical-align: middle;\n",
       "    }\n",
       "\n",
       "    .dataframe tbody tr th {\n",
       "        vertical-align: top;\n",
       "    }\n",
       "\n",
       "    .dataframe thead th {\n",
       "        text-align: right;\n",
       "    }\n",
       "</style>\n",
       "<table border=\"1\" class=\"dataframe\">\n",
       "  <thead>\n",
       "    <tr style=\"text-align: right;\">\n",
       "      <th></th>\n",
       "      <th>semi-furnished</th>\n",
       "      <th>unfurnished</th>\n",
       "    </tr>\n",
       "  </thead>\n",
       "  <tbody>\n",
       "    <tr>\n",
       "      <th>0</th>\n",
       "      <td>0</td>\n",
       "      <td>0</td>\n",
       "    </tr>\n",
       "    <tr>\n",
       "      <th>1</th>\n",
       "      <td>0</td>\n",
       "      <td>0</td>\n",
       "    </tr>\n",
       "    <tr>\n",
       "      <th>2</th>\n",
       "      <td>1</td>\n",
       "      <td>0</td>\n",
       "    </tr>\n",
       "    <tr>\n",
       "      <th>3</th>\n",
       "      <td>0</td>\n",
       "      <td>0</td>\n",
       "    </tr>\n",
       "    <tr>\n",
       "      <th>4</th>\n",
       "      <td>0</td>\n",
       "      <td>0</td>\n",
       "    </tr>\n",
       "  </tbody>\n",
       "</table>\n",
       "</div>"
      ],
      "text/plain": [
       "   semi-furnished  unfurnished\n",
       "0               0            0\n",
       "1               0            0\n",
       "2               1            0\n",
       "3               0            0\n",
       "4               0            0"
      ]
     },
     "execution_count": 90,
     "metadata": {},
     "output_type": "execute_result"
    }
   ],
   "source": [
    "#recreating table but now dropping the first column(furnished)\n",
    "table = pd.get_dummies(data['furnishingstatus'], drop_first = True) \n",
    "table.head()"
   ]
  },
  {
   "cell_type": "code",
   "execution_count": 91,
   "id": "preceding-sense",
   "metadata": {
    "execution": {
     "iopub.execute_input": "2021-05-20T18:36:29.274776Z",
     "iopub.status.busy": "2021-05-20T18:36:29.273798Z",
     "iopub.status.idle": "2021-05-20T18:36:29.278450Z",
     "shell.execute_reply": "2021-05-20T18:36:29.277855Z",
     "shell.execute_reply.started": "2021-05-20T18:28:57.544145Z"
    },
    "papermill": {
     "duration": 0.061148,
     "end_time": "2021-05-20T18:36:29.278584",
     "exception": false,
     "start_time": "2021-05-20T18:36:29.217436",
     "status": "completed"
    },
    "tags": []
   },
   "outputs": [
    {
     "data": {
      "text/html": [
       "<div>\n",
       "<style scoped>\n",
       "    .dataframe tbody tr th:only-of-type {\n",
       "        vertical-align: middle;\n",
       "    }\n",
       "\n",
       "    .dataframe tbody tr th {\n",
       "        vertical-align: top;\n",
       "    }\n",
       "\n",
       "    .dataframe thead th {\n",
       "        text-align: right;\n",
       "    }\n",
       "</style>\n",
       "<table border=\"1\" class=\"dataframe\">\n",
       "  <thead>\n",
       "    <tr style=\"text-align: right;\">\n",
       "      <th></th>\n",
       "      <th>price</th>\n",
       "      <th>area</th>\n",
       "      <th>bedrooms</th>\n",
       "      <th>bathrooms</th>\n",
       "      <th>stories</th>\n",
       "      <th>mainroad</th>\n",
       "      <th>guestroom</th>\n",
       "      <th>basement</th>\n",
       "      <th>hotwaterheating</th>\n",
       "      <th>airconditioning</th>\n",
       "      <th>parking</th>\n",
       "      <th>prefarea</th>\n",
       "      <th>furnishingstatus</th>\n",
       "      <th>semi-furnished</th>\n",
       "      <th>unfurnished</th>\n",
       "    </tr>\n",
       "  </thead>\n",
       "  <tbody>\n",
       "    <tr>\n",
       "      <th>0</th>\n",
       "      <td>13300000</td>\n",
       "      <td>7420</td>\n",
       "      <td>4</td>\n",
       "      <td>2</td>\n",
       "      <td>3</td>\n",
       "      <td>1</td>\n",
       "      <td>0</td>\n",
       "      <td>0</td>\n",
       "      <td>0</td>\n",
       "      <td>1</td>\n",
       "      <td>2</td>\n",
       "      <td>1</td>\n",
       "      <td>furnished</td>\n",
       "      <td>0</td>\n",
       "      <td>0</td>\n",
       "    </tr>\n",
       "    <tr>\n",
       "      <th>1</th>\n",
       "      <td>12250000</td>\n",
       "      <td>8960</td>\n",
       "      <td>4</td>\n",
       "      <td>4</td>\n",
       "      <td>4</td>\n",
       "      <td>1</td>\n",
       "      <td>0</td>\n",
       "      <td>0</td>\n",
       "      <td>0</td>\n",
       "      <td>1</td>\n",
       "      <td>3</td>\n",
       "      <td>0</td>\n",
       "      <td>furnished</td>\n",
       "      <td>0</td>\n",
       "      <td>0</td>\n",
       "    </tr>\n",
       "    <tr>\n",
       "      <th>2</th>\n",
       "      <td>12250000</td>\n",
       "      <td>9960</td>\n",
       "      <td>3</td>\n",
       "      <td>2</td>\n",
       "      <td>2</td>\n",
       "      <td>1</td>\n",
       "      <td>0</td>\n",
       "      <td>1</td>\n",
       "      <td>0</td>\n",
       "      <td>0</td>\n",
       "      <td>2</td>\n",
       "      <td>1</td>\n",
       "      <td>semi-furnished</td>\n",
       "      <td>1</td>\n",
       "      <td>0</td>\n",
       "    </tr>\n",
       "    <tr>\n",
       "      <th>3</th>\n",
       "      <td>12215000</td>\n",
       "      <td>7500</td>\n",
       "      <td>4</td>\n",
       "      <td>2</td>\n",
       "      <td>2</td>\n",
       "      <td>1</td>\n",
       "      <td>0</td>\n",
       "      <td>1</td>\n",
       "      <td>0</td>\n",
       "      <td>1</td>\n",
       "      <td>3</td>\n",
       "      <td>1</td>\n",
       "      <td>furnished</td>\n",
       "      <td>0</td>\n",
       "      <td>0</td>\n",
       "    </tr>\n",
       "    <tr>\n",
       "      <th>4</th>\n",
       "      <td>11410000</td>\n",
       "      <td>7420</td>\n",
       "      <td>4</td>\n",
       "      <td>1</td>\n",
       "      <td>2</td>\n",
       "      <td>1</td>\n",
       "      <td>1</td>\n",
       "      <td>1</td>\n",
       "      <td>0</td>\n",
       "      <td>1</td>\n",
       "      <td>2</td>\n",
       "      <td>0</td>\n",
       "      <td>furnished</td>\n",
       "      <td>0</td>\n",
       "      <td>0</td>\n",
       "    </tr>\n",
       "  </tbody>\n",
       "</table>\n",
       "</div>"
      ],
      "text/plain": [
       "      price  area  bedrooms  bathrooms  stories  mainroad  guestroom  \\\n",
       "0  13300000  7420         4          2        3         1          0   \n",
       "1  12250000  8960         4          4        4         1          0   \n",
       "2  12250000  9960         3          2        2         1          0   \n",
       "3  12215000  7500         4          2        2         1          0   \n",
       "4  11410000  7420         4          1        2         1          1   \n",
       "\n",
       "   basement  hotwaterheating  airconditioning  parking  prefarea  \\\n",
       "0         0                0                1        2         1   \n",
       "1         0                0                1        3         0   \n",
       "2         1                0                0        2         1   \n",
       "3         1                0                1        3         1   \n",
       "4         1                0                1        2         0   \n",
       "\n",
       "  furnishingstatus  semi-furnished  unfurnished  \n",
       "0        furnished               0            0  \n",
       "1        furnished               0            0  \n",
       "2   semi-furnished               1            0  \n",
       "3        furnished               0            0  \n",
       "4        furnished               0            0  "
      ]
     },
     "execution_count": 91,
     "metadata": {},
     "output_type": "execute_result"
    }
   ],
   "source": [
    "#adding the other two columns to our data set\n",
    "data = pd.concat([data, table], axis = 1)  \n",
    "data.head()"
   ]
  },
  {
   "cell_type": "code",
   "execution_count": 92,
   "id": "appointed-throw",
   "metadata": {
    "execution": {
     "iopub.execute_input": "2021-05-20T18:36:29.378055Z",
     "iopub.status.busy": "2021-05-20T18:36:29.377060Z",
     "iopub.status.idle": "2021-05-20T18:36:29.381780Z",
     "shell.execute_reply": "2021-05-20T18:36:29.381263Z",
     "shell.execute_reply.started": "2021-05-20T18:28:57.57024Z"
    },
    "papermill": {
     "duration": 0.060668,
     "end_time": "2021-05-20T18:36:29.381942",
     "exception": false,
     "start_time": "2021-05-20T18:36:29.321274",
     "status": "completed"
    },
    "tags": []
   },
   "outputs": [
    {
     "data": {
      "text/html": [
       "<div>\n",
       "<style scoped>\n",
       "    .dataframe tbody tr th:only-of-type {\n",
       "        vertical-align: middle;\n",
       "    }\n",
       "\n",
       "    .dataframe tbody tr th {\n",
       "        vertical-align: top;\n",
       "    }\n",
       "\n",
       "    .dataframe thead th {\n",
       "        text-align: right;\n",
       "    }\n",
       "</style>\n",
       "<table border=\"1\" class=\"dataframe\">\n",
       "  <thead>\n",
       "    <tr style=\"text-align: right;\">\n",
       "      <th></th>\n",
       "      <th>price</th>\n",
       "      <th>area</th>\n",
       "      <th>bedrooms</th>\n",
       "      <th>bathrooms</th>\n",
       "      <th>stories</th>\n",
       "      <th>mainroad</th>\n",
       "      <th>guestroom</th>\n",
       "      <th>basement</th>\n",
       "      <th>hotwaterheating</th>\n",
       "      <th>airconditioning</th>\n",
       "      <th>parking</th>\n",
       "      <th>prefarea</th>\n",
       "      <th>semi-furnished</th>\n",
       "      <th>unfurnished</th>\n",
       "    </tr>\n",
       "  </thead>\n",
       "  <tbody>\n",
       "    <tr>\n",
       "      <th>0</th>\n",
       "      <td>13300000</td>\n",
       "      <td>7420</td>\n",
       "      <td>4</td>\n",
       "      <td>2</td>\n",
       "      <td>3</td>\n",
       "      <td>1</td>\n",
       "      <td>0</td>\n",
       "      <td>0</td>\n",
       "      <td>0</td>\n",
       "      <td>1</td>\n",
       "      <td>2</td>\n",
       "      <td>1</td>\n",
       "      <td>0</td>\n",
       "      <td>0</td>\n",
       "    </tr>\n",
       "    <tr>\n",
       "      <th>1</th>\n",
       "      <td>12250000</td>\n",
       "      <td>8960</td>\n",
       "      <td>4</td>\n",
       "      <td>4</td>\n",
       "      <td>4</td>\n",
       "      <td>1</td>\n",
       "      <td>0</td>\n",
       "      <td>0</td>\n",
       "      <td>0</td>\n",
       "      <td>1</td>\n",
       "      <td>3</td>\n",
       "      <td>0</td>\n",
       "      <td>0</td>\n",
       "      <td>0</td>\n",
       "    </tr>\n",
       "    <tr>\n",
       "      <th>2</th>\n",
       "      <td>12250000</td>\n",
       "      <td>9960</td>\n",
       "      <td>3</td>\n",
       "      <td>2</td>\n",
       "      <td>2</td>\n",
       "      <td>1</td>\n",
       "      <td>0</td>\n",
       "      <td>1</td>\n",
       "      <td>0</td>\n",
       "      <td>0</td>\n",
       "      <td>2</td>\n",
       "      <td>1</td>\n",
       "      <td>1</td>\n",
       "      <td>0</td>\n",
       "    </tr>\n",
       "    <tr>\n",
       "      <th>3</th>\n",
       "      <td>12215000</td>\n",
       "      <td>7500</td>\n",
       "      <td>4</td>\n",
       "      <td>2</td>\n",
       "      <td>2</td>\n",
       "      <td>1</td>\n",
       "      <td>0</td>\n",
       "      <td>1</td>\n",
       "      <td>0</td>\n",
       "      <td>1</td>\n",
       "      <td>3</td>\n",
       "      <td>1</td>\n",
       "      <td>0</td>\n",
       "      <td>0</td>\n",
       "    </tr>\n",
       "    <tr>\n",
       "      <th>4</th>\n",
       "      <td>11410000</td>\n",
       "      <td>7420</td>\n",
       "      <td>4</td>\n",
       "      <td>1</td>\n",
       "      <td>2</td>\n",
       "      <td>1</td>\n",
       "      <td>1</td>\n",
       "      <td>1</td>\n",
       "      <td>0</td>\n",
       "      <td>1</td>\n",
       "      <td>2</td>\n",
       "      <td>0</td>\n",
       "      <td>0</td>\n",
       "      <td>0</td>\n",
       "    </tr>\n",
       "  </tbody>\n",
       "</table>\n",
       "</div>"
      ],
      "text/plain": [
       "      price  area  bedrooms  bathrooms  stories  mainroad  guestroom  \\\n",
       "0  13300000  7420         4          2        3         1          0   \n",
       "1  12250000  8960         4          4        4         1          0   \n",
       "2  12250000  9960         3          2        2         1          0   \n",
       "3  12215000  7500         4          2        2         1          0   \n",
       "4  11410000  7420         4          1        2         1          1   \n",
       "\n",
       "   basement  hotwaterheating  airconditioning  parking  prefarea  \\\n",
       "0         0                0                1        2         1   \n",
       "1         0                0                1        3         0   \n",
       "2         1                0                0        2         1   \n",
       "3         1                0                1        3         1   \n",
       "4         1                0                1        2         0   \n",
       "\n",
       "   semi-furnished  unfurnished  \n",
       "0               0            0  \n",
       "1               0            0  \n",
       "2               1            0  \n",
       "3               0            0  \n",
       "4               0            0  "
      ]
     },
     "execution_count": 92,
     "metadata": {},
     "output_type": "execute_result"
    }
   ],
   "source": [
    "#dropping the old column from the dataset\n",
    "data.drop(['furnishingstatus'], axis = 1, inplace = True) \n",
    "data.head()"
   ]
  },
  {
   "attachments": {},
   "cell_type": "markdown",
   "id": "checked-royal",
   "metadata": {
    "papermill": {
     "duration": 0.041924,
     "end_time": "2021-05-20T18:36:29.466424",
     "exception": false,
     "start_time": "2021-05-20T18:36:29.424500",
     "status": "completed"
    },
    "tags": []
   },
   "source": [
    "### **Plots on the graph** "
   ]
  },
  {
   "cell_type": "code",
   "execution_count": 93,
   "id": "educational-linux",
   "metadata": {
    "execution": {
     "iopub.execute_input": "2021-05-20T18:36:29.559915Z",
     "iopub.status.busy": "2021-05-20T18:36:29.557580Z",
     "iopub.status.idle": "2021-05-20T18:37:07.070239Z",
     "shell.execute_reply": "2021-05-20T18:37:07.070761Z",
     "shell.execute_reply.started": "2021-05-20T18:28:57.59485Z"
    },
    "papermill": {
     "duration": 37.562144,
     "end_time": "2021-05-20T18:37:07.070951",
     "exception": false,
     "start_time": "2021-05-20T18:36:29.508807",
     "status": "completed"
    },
    "tags": []
   },
   "outputs": [
    {
     "data": {
      "image/png": "[encoded data removed]",
      "text/plain": [
       "<Figure size 2520x2520 with 210 Axes>"
      ]
     },
     "metadata": {},
     "output_type": "display_data"
    }
   ],
   "source": [
    "sns.pairplot(data)\n",
    "plt.show()"
   ]
  },
  {
   "attachments": {},
   "cell_type": "markdown",
   "id": "unlike-saying",
   "metadata": {
    "papermill": {
     "duration": 0.051775,
     "end_time": "2021-05-20T18:37:07.175048",
     "exception": false,
     "start_time": "2021-05-20T18:37:07.123273",
     "status": "completed"
    },
    "tags": []
   },
   "source": [
    "### **Splitting data into Training and Testing data**"
   ]
  },
  {
   "cell_type": "code",
   "execution_count": 94,
   "id": "considerable-natural",
   "metadata": {
    "execution": {
     "iopub.execute_input": "2021-05-20T18:37:07.287326Z",
     "iopub.status.busy": "2021-05-20T18:37:07.286327Z",
     "iopub.status.idle": "2021-05-20T18:37:07.291093Z",
     "shell.execute_reply": "2021-05-20T18:37:07.290542Z",
     "shell.execute_reply.started": "2021-05-20T18:29:36.831722Z"
    },
    "papermill": {
     "duration": 0.06385,
     "end_time": "2021-05-20T18:37:07.291242",
     "exception": false,
     "start_time": "2021-05-20T18:37:07.227392",
     "status": "completed"
    },
    "tags": []
   },
   "outputs": [
    {
     "data": {
      "text/plain": [
       "Index(['price', 'area', 'bedrooms', 'bathrooms', 'stories', 'mainroad',\n",
       "       'guestroom', 'basement', 'hotwaterheating', 'airconditioning',\n",
       "       'parking', 'prefarea', 'semi-furnished', 'unfurnished'],\n",
       "      dtype='object')"
      ]
     },
     "execution_count": 94,
     "metadata": {},
     "output_type": "execute_result"
    }
   ],
   "source": [
    "data.columns"
   ]
  },
  {
   "cell_type": "code",
   "execution_count": 95,
   "id": "vanilla-resident",
   "metadata": {
    "execution": {
     "iopub.execute_input": "2021-05-20T18:37:07.405032Z",
     "iopub.status.busy": "2021-05-20T18:37:07.404061Z",
     "iopub.status.idle": "2021-05-20T18:37:07.407124Z",
     "shell.execute_reply": "2021-05-20T18:37:07.406604Z",
     "shell.execute_reply.started": "2021-05-20T18:29:36.840487Z"
    },
    "papermill": {
     "duration": 0.062793,
     "end_time": "2021-05-20T18:37:07.407270",
     "exception": false,
     "start_time": "2021-05-20T18:37:07.344477",
     "status": "completed"
    },
    "tags": []
   },
   "outputs": [],
   "source": [
    "from sklearn.model_selection import train_test_split\n",
    "np.random.seed(0) #so data can have same values\n",
    "df_train, df_test = train_test_split(data, train_size = 0.7, test_size = 0.3, random_state = 100)"
   ]
  },
  {
   "cell_type": "code",
   "execution_count": 96,
   "id": "vanilla-jersey",
   "metadata": {
    "execution": {
     "iopub.execute_input": "2021-05-20T18:37:07.527368Z",
     "iopub.status.busy": "2021-05-20T18:37:07.526360Z",
     "iopub.status.idle": "2021-05-20T18:37:07.531388Z",
     "shell.execute_reply": "2021-05-20T18:37:07.530886Z",
     "shell.execute_reply.started": "2021-05-20T18:29:36.856514Z"
    },
    "papermill": {
     "duration": 0.072079,
     "end_time": "2021-05-20T18:37:07.531528",
     "exception": false,
     "start_time": "2021-05-20T18:37:07.459449",
     "status": "completed"
    },
    "tags": []
   },
   "outputs": [
    {
     "data": {
      "text/html": [
       "<div>\n",
       "<style scoped>\n",
       "    .dataframe tbody tr th:only-of-type {\n",
       "        vertical-align: middle;\n",
       "    }\n",
       "\n",
       "    .dataframe tbody tr th {\n",
       "        vertical-align: top;\n",
       "    }\n",
       "\n",
       "    .dataframe thead th {\n",
       "        text-align: right;\n",
       "    }\n",
       "</style>\n",
       "<table border=\"1\" class=\"dataframe\">\n",
       "  <thead>\n",
       "    <tr style=\"text-align: right;\">\n",
       "      <th></th>\n",
       "      <th>price</th>\n",
       "      <th>area</th>\n",
       "      <th>bedrooms</th>\n",
       "      <th>bathrooms</th>\n",
       "      <th>stories</th>\n",
       "      <th>mainroad</th>\n",
       "      <th>guestroom</th>\n",
       "      <th>basement</th>\n",
       "      <th>hotwaterheating</th>\n",
       "      <th>airconditioning</th>\n",
       "      <th>parking</th>\n",
       "      <th>prefarea</th>\n",
       "      <th>semi-furnished</th>\n",
       "      <th>unfurnished</th>\n",
       "    </tr>\n",
       "  </thead>\n",
       "  <tbody>\n",
       "    <tr>\n",
       "      <th>359</th>\n",
       "      <td>3710000</td>\n",
       "      <td>3600</td>\n",
       "      <td>3</td>\n",
       "      <td>1</td>\n",
       "      <td>1</td>\n",
       "      <td>1</td>\n",
       "      <td>0</td>\n",
       "      <td>0</td>\n",
       "      <td>0</td>\n",
       "      <td>0</td>\n",
       "      <td>1</td>\n",
       "      <td>0</td>\n",
       "      <td>0</td>\n",
       "      <td>1</td>\n",
       "    </tr>\n",
       "    <tr>\n",
       "      <th>19</th>\n",
       "      <td>8855000</td>\n",
       "      <td>6420</td>\n",
       "      <td>3</td>\n",
       "      <td>2</td>\n",
       "      <td>2</td>\n",
       "      <td>1</td>\n",
       "      <td>0</td>\n",
       "      <td>0</td>\n",
       "      <td>0</td>\n",
       "      <td>1</td>\n",
       "      <td>1</td>\n",
       "      <td>1</td>\n",
       "      <td>1</td>\n",
       "      <td>0</td>\n",
       "    </tr>\n",
       "    <tr>\n",
       "      <th>159</th>\n",
       "      <td>5460000</td>\n",
       "      <td>3150</td>\n",
       "      <td>3</td>\n",
       "      <td>2</td>\n",
       "      <td>1</td>\n",
       "      <td>1</td>\n",
       "      <td>1</td>\n",
       "      <td>1</td>\n",
       "      <td>0</td>\n",
       "      <td>1</td>\n",
       "      <td>0</td>\n",
       "      <td>0</td>\n",
       "      <td>0</td>\n",
       "      <td>0</td>\n",
       "    </tr>\n",
       "    <tr>\n",
       "      <th>35</th>\n",
       "      <td>8080940</td>\n",
       "      <td>7000</td>\n",
       "      <td>3</td>\n",
       "      <td>2</td>\n",
       "      <td>4</td>\n",
       "      <td>1</td>\n",
       "      <td>0</td>\n",
       "      <td>0</td>\n",
       "      <td>0</td>\n",
       "      <td>1</td>\n",
       "      <td>2</td>\n",
       "      <td>0</td>\n",
       "      <td>0</td>\n",
       "      <td>0</td>\n",
       "    </tr>\n",
       "    <tr>\n",
       "      <th>28</th>\n",
       "      <td>8400000</td>\n",
       "      <td>7950</td>\n",
       "      <td>5</td>\n",
       "      <td>2</td>\n",
       "      <td>2</td>\n",
       "      <td>1</td>\n",
       "      <td>0</td>\n",
       "      <td>1</td>\n",
       "      <td>1</td>\n",
       "      <td>0</td>\n",
       "      <td>2</td>\n",
       "      <td>0</td>\n",
       "      <td>0</td>\n",
       "      <td>1</td>\n",
       "    </tr>\n",
       "  </tbody>\n",
       "</table>\n",
       "</div>"
      ],
      "text/plain": [
       "       price  area  bedrooms  bathrooms  stories  mainroad  guestroom  \\\n",
       "359  3710000  3600         3          1        1         1          0   \n",
       "19   8855000  6420         3          2        2         1          0   \n",
       "159  5460000  3150         3          2        1         1          1   \n",
       "35   8080940  7000         3          2        4         1          0   \n",
       "28   8400000  7950         5          2        2         1          0   \n",
       "\n",
       "     basement  hotwaterheating  airconditioning  parking  prefarea  \\\n",
       "359         0                0                0        1         0   \n",
       "19          0                0                1        1         1   \n",
       "159         1                0                1        0         0   \n",
       "35          0                0                1        2         0   \n",
       "28          1                1                0        2         0   \n",
       "\n",
       "     semi-furnished  unfurnished  \n",
       "359               0            1  \n",
       "19                1            0  \n",
       "159               0            0  \n",
       "35                0            0  \n",
       "28                0            1  "
      ]
     },
     "execution_count": 96,
     "metadata": {},
     "output_type": "execute_result"
    }
   ],
   "source": [
    "df_train.head()\n"
   ]
  },
  {
   "attachments": {},
   "cell_type": "markdown",
   "id": "threaded-northern",
   "metadata": {
    "papermill": {
     "duration": 0.053284,
     "end_time": "2021-05-20T18:37:07.637979",
     "exception": false,
     "start_time": "2021-05-20T18:37:07.584695",
     "status": "completed"
    },
    "tags": []
   },
   "source": [
    "### **Scaling Training Data: MinMaxScaler**"
   ]
  },
  {
   "cell_type": "code",
   "execution_count": 97,
   "id": "through-joshua",
   "metadata": {
    "execution": {
     "iopub.execute_input": "2021-05-20T18:37:07.749483Z",
     "iopub.status.busy": "2021-05-20T18:37:07.748539Z",
     "iopub.status.idle": "2021-05-20T18:37:07.751735Z",
     "shell.execute_reply": "2021-05-20T18:37:07.751209Z",
     "shell.execute_reply.started": "2021-05-20T18:29:36.888237Z"
    },
    "papermill": {
     "duration": 0.060926,
     "end_time": "2021-05-20T18:37:07.751903",
     "exception": false,
     "start_time": "2021-05-20T18:37:07.690977",
     "status": "completed"
    },
    "tags": []
   },
   "outputs": [],
   "source": [
    "from sklearn.preprocessing import MinMaxScaler    #to make all the numbers to the same scale\n",
    "scaler = MinMaxScaler()"
   ]
  },
  {
   "cell_type": "code",
   "execution_count": 98,
   "id": "improving-crystal",
   "metadata": {
    "execution": {
     "iopub.execute_input": "2021-05-20T18:37:07.863272Z",
     "iopub.status.busy": "2021-05-20T18:37:07.862379Z",
     "iopub.status.idle": "2021-05-20T18:37:07.866034Z",
     "shell.execute_reply": "2021-05-20T18:37:07.865434Z",
     "shell.execute_reply.started": "2021-05-20T18:29:36.895788Z"
    },
    "papermill": {
     "duration": 0.061125,
     "end_time": "2021-05-20T18:37:07.866179",
     "exception": false,
     "start_time": "2021-05-20T18:37:07.805054",
     "status": "completed"
    },
    "tags": []
   },
   "outputs": [],
   "source": [
    "#applying scale to all numerical columns(not the yes/no and dummy columns)\n",
    "var_to_scale = ['area', 'bedrooms', 'bathrooms', 'stories', 'parking','price']"
   ]
  },
  {
   "cell_type": "code",
   "execution_count": 99,
   "id": "portuguese-aggregate",
   "metadata": {
    "execution": {
     "iopub.execute_input": "2021-05-20T18:37:07.986731Z",
     "iopub.status.busy": "2021-05-20T18:37:07.986066Z",
     "iopub.status.idle": "2021-05-20T18:37:07.989559Z",
     "shell.execute_reply": "2021-05-20T18:37:07.988925Z",
     "shell.execute_reply.started": "2021-05-20T18:29:36.907395Z"
    },
    "papermill": {
     "duration": 0.070606,
     "end_time": "2021-05-20T18:37:07.989699",
     "exception": false,
     "start_time": "2021-05-20T18:37:07.919093",
     "status": "completed"
    },
    "tags": []
   },
   "outputs": [],
   "source": [
    "#applying the scaled values to our training data set\n",
    "df_train[var_to_scale] = scaler.fit_transform(df_train[var_to_scale])  \n"
   ]
  },
  {
   "cell_type": "code",
   "execution_count": 100,
   "id": "discrete-genetics",
   "metadata": {
    "execution": {
     "iopub.execute_input": "2021-05-20T18:37:08.113688Z",
     "iopub.status.busy": "2021-05-20T18:37:08.112683Z",
     "iopub.status.idle": "2021-05-20T18:37:08.118699Z",
     "shell.execute_reply": "2021-05-20T18:37:08.117701Z",
     "shell.execute_reply.started": "2021-05-20T18:29:36.929789Z"
    },
    "papermill": {
     "duration": 0.075959,
     "end_time": "2021-05-20T18:37:08.118867",
     "exception": false,
     "start_time": "2021-05-20T18:37:08.042908",
     "status": "completed"
    },
    "tags": []
   },
   "outputs": [
    {
     "data": {
      "text/html": [
       "<div>\n",
       "<style scoped>\n",
       "    .dataframe tbody tr th:only-of-type {\n",
       "        vertical-align: middle;\n",
       "    }\n",
       "\n",
       "    .dataframe tbody tr th {\n",
       "        vertical-align: top;\n",
       "    }\n",
       "\n",
       "    .dataframe thead th {\n",
       "        text-align: right;\n",
       "    }\n",
       "</style>\n",
       "<table border=\"1\" class=\"dataframe\">\n",
       "  <thead>\n",
       "    <tr style=\"text-align: right;\">\n",
       "      <th></th>\n",
       "      <th>price</th>\n",
       "      <th>area</th>\n",
       "      <th>bedrooms</th>\n",
       "      <th>bathrooms</th>\n",
       "      <th>stories</th>\n",
       "      <th>mainroad</th>\n",
       "      <th>guestroom</th>\n",
       "      <th>basement</th>\n",
       "      <th>hotwaterheating</th>\n",
       "      <th>airconditioning</th>\n",
       "      <th>parking</th>\n",
       "      <th>prefarea</th>\n",
       "      <th>semi-furnished</th>\n",
       "      <th>unfurnished</th>\n",
       "    </tr>\n",
       "  </thead>\n",
       "  <tbody>\n",
       "    <tr>\n",
       "      <th>359</th>\n",
       "      <td>0.169697</td>\n",
       "      <td>0.155227</td>\n",
       "      <td>0.4</td>\n",
       "      <td>0.0</td>\n",
       "      <td>0.000000</td>\n",
       "      <td>1</td>\n",
       "      <td>0</td>\n",
       "      <td>0</td>\n",
       "      <td>0</td>\n",
       "      <td>0</td>\n",
       "      <td>0.333333</td>\n",
       "      <td>0</td>\n",
       "      <td>0</td>\n",
       "      <td>1</td>\n",
       "    </tr>\n",
       "    <tr>\n",
       "      <th>19</th>\n",
       "      <td>0.615152</td>\n",
       "      <td>0.403379</td>\n",
       "      <td>0.4</td>\n",
       "      <td>0.5</td>\n",
       "      <td>0.333333</td>\n",
       "      <td>1</td>\n",
       "      <td>0</td>\n",
       "      <td>0</td>\n",
       "      <td>0</td>\n",
       "      <td>1</td>\n",
       "      <td>0.333333</td>\n",
       "      <td>1</td>\n",
       "      <td>1</td>\n",
       "      <td>0</td>\n",
       "    </tr>\n",
       "    <tr>\n",
       "      <th>159</th>\n",
       "      <td>0.321212</td>\n",
       "      <td>0.115628</td>\n",
       "      <td>0.4</td>\n",
       "      <td>0.5</td>\n",
       "      <td>0.000000</td>\n",
       "      <td>1</td>\n",
       "      <td>1</td>\n",
       "      <td>1</td>\n",
       "      <td>0</td>\n",
       "      <td>1</td>\n",
       "      <td>0.000000</td>\n",
       "      <td>0</td>\n",
       "      <td>0</td>\n",
       "      <td>0</td>\n",
       "    </tr>\n",
       "    <tr>\n",
       "      <th>35</th>\n",
       "      <td>0.548133</td>\n",
       "      <td>0.454417</td>\n",
       "      <td>0.4</td>\n",
       "      <td>0.5</td>\n",
       "      <td>1.000000</td>\n",
       "      <td>1</td>\n",
       "      <td>0</td>\n",
       "      <td>0</td>\n",
       "      <td>0</td>\n",
       "      <td>1</td>\n",
       "      <td>0.666667</td>\n",
       "      <td>0</td>\n",
       "      <td>0</td>\n",
       "      <td>0</td>\n",
       "    </tr>\n",
       "    <tr>\n",
       "      <th>28</th>\n",
       "      <td>0.575758</td>\n",
       "      <td>0.538015</td>\n",
       "      <td>0.8</td>\n",
       "      <td>0.5</td>\n",
       "      <td>0.333333</td>\n",
       "      <td>1</td>\n",
       "      <td>0</td>\n",
       "      <td>1</td>\n",
       "      <td>1</td>\n",
       "      <td>0</td>\n",
       "      <td>0.666667</td>\n",
       "      <td>0</td>\n",
       "      <td>0</td>\n",
       "      <td>1</td>\n",
       "    </tr>\n",
       "  </tbody>\n",
       "</table>\n",
       "</div>"
      ],
      "text/plain": [
       "        price      area  bedrooms  bathrooms   stories  mainroad  guestroom  \\\n",
       "359  0.169697  0.155227       0.4        0.0  0.000000         1          0   \n",
       "19   0.615152  0.403379       0.4        0.5  0.333333         1          0   \n",
       "159  0.321212  0.115628       0.4        0.5  0.000000         1          1   \n",
       "35   0.548133  0.454417       0.4        0.5  1.000000         1          0   \n",
       "28   0.575758  0.538015       0.8        0.5  0.333333         1          0   \n",
       "\n",
       "     basement  hotwaterheating  airconditioning   parking  prefarea  \\\n",
       "359         0                0                0  0.333333         0   \n",
       "19          0                0                1  0.333333         1   \n",
       "159         1                0                1  0.000000         0   \n",
       "35          0                0                1  0.666667         0   \n",
       "28          1                1                0  0.666667         0   \n",
       "\n",
       "     semi-furnished  unfurnished  \n",
       "359               0            1  \n",
       "19                1            0  \n",
       "159               0            0  \n",
       "35                0            0  \n",
       "28                0            1  "
      ]
     },
     "execution_count": 100,
     "metadata": {},
     "output_type": "execute_result"
    }
   ],
   "source": [
    "df_train.head()"
   ]
  },
  {
   "attachments": {},
   "cell_type": "markdown",
   "id": "practical-classics",
   "metadata": {
    "papermill": {
     "duration": 0.054513,
     "end_time": "2021-05-20T18:37:08.394154",
     "exception": false,
     "start_time": "2021-05-20T18:37:08.339641",
     "status": "completed"
    },
    "tags": []
   },
   "source": [
    "### **Training the model**"
   ]
  },
  {
   "cell_type": "code",
   "execution_count": 102,
   "id": "bearing-encoding",
   "metadata": {
    "execution": {
     "iopub.execute_input": "2021-05-20T18:37:08.507903Z",
     "iopub.status.busy": "2021-05-20T18:37:08.507222Z",
     "iopub.status.idle": "2021-05-20T18:37:08.510431Z",
     "shell.execute_reply": "2021-05-20T18:37:08.509781Z",
     "shell.execute_reply.started": "2021-05-20T18:29:37.010479Z"
    },
    "papermill": {
     "duration": 0.062348,
     "end_time": "2021-05-20T18:37:08.510574",
     "exception": false,
     "start_time": "2021-05-20T18:37:08.448226",
     "status": "completed"
    },
    "tags": []
   },
   "outputs": [],
   "source": [
    "# only output price is poped out of df_Train and put into y_train\n",
    "y_train = df_train.pop('price') \n",
    "x_train = df_train"
   ]
  },
  {
   "cell_type": "code",
   "execution_count": 103,
   "id": "distant-inventory",
   "metadata": {
    "execution": {
     "iopub.execute_input": "2021-05-20T18:37:08.625778Z",
     "iopub.status.busy": "2021-05-20T18:37:08.625177Z",
     "iopub.status.idle": "2021-05-20T18:37:08.629173Z",
     "shell.execute_reply": "2021-05-20T18:37:08.628512Z",
     "shell.execute_reply.started": "2021-05-20T18:29:37.016676Z"
    },
    "papermill": {
     "duration": 0.063787,
     "end_time": "2021-05-20T18:37:08.629309",
     "exception": false,
     "start_time": "2021-05-20T18:37:08.565522",
     "status": "completed"
    },
    "tags": []
   },
   "outputs": [
    {
     "data": {
      "text/plain": [
       "359    0.169697\n",
       "19     0.615152\n",
       "159    0.321212\n",
       "35     0.548133\n",
       "28     0.575758\n",
       "Name: price, dtype: float64"
      ]
     },
     "execution_count": 103,
     "metadata": {},
     "output_type": "execute_result"
    }
   ],
   "source": [
    "y_train.head()"
   ]
  },
  {
   "cell_type": "code",
   "execution_count": 104,
   "id": "bronze-russia",
   "metadata": {
    "execution": {
     "iopub.execute_input": "2021-05-20T18:37:08.746530Z",
     "iopub.status.busy": "2021-05-20T18:37:08.745826Z",
     "iopub.status.idle": "2021-05-20T18:37:08.768941Z",
     "shell.execute_reply": "2021-05-20T18:37:08.768265Z",
     "shell.execute_reply.started": "2021-05-20T18:29:37.035144Z"
    },
    "papermill": {
     "duration": 0.08353,
     "end_time": "2021-05-20T18:37:08.769093",
     "exception": false,
     "start_time": "2021-05-20T18:37:08.685563",
     "status": "completed"
    },
    "tags": []
   },
   "outputs": [
    {
     "data": {
      "text/plain": [
       "LinearRegression()"
      ]
     },
     "execution_count": 104,
     "metadata": {},
     "output_type": "execute_result"
    }
   ],
   "source": [
    "#using linear regression\n",
    "linear_reg = LinearRegression()\n",
    "linear_reg.fit(x_train,y_train)"
   ]
  },
  {
   "cell_type": "code",
   "execution_count": 105,
   "id": "anonymous-client",
   "metadata": {
    "execution": {
     "iopub.execute_input": "2021-05-20T18:37:08.885764Z",
     "iopub.status.busy": "2021-05-20T18:37:08.885071Z",
     "iopub.status.idle": "2021-05-20T18:37:08.888501Z",
     "shell.execute_reply": "2021-05-20T18:37:08.889092Z",
     "shell.execute_reply.started": "2021-05-20T18:29:37.076686Z"
    },
    "papermill": {
     "duration": 0.064171,
     "end_time": "2021-05-20T18:37:08.889260",
     "exception": false,
     "start_time": "2021-05-20T18:37:08.825089",
     "status": "completed"
    },
    "tags": []
   },
   "outputs": [
    {
     "data": {
      "text/plain": [
       "array([ 0.23466354,  0.04673453,  0.19082319,  0.10851563,  0.05044144,\n",
       "        0.03042826,  0.02159488,  0.08486327,  0.06688093,  0.06073533,\n",
       "        0.05942788,  0.00092052, -0.03100561])"
      ]
     },
     "execution_count": 105,
     "metadata": {},
     "output_type": "execute_result"
    }
   ],
   "source": [
    "linear_reg.coef_"
   ]
  },
  {
   "cell_type": "code",
   "execution_count": 106,
   "id": "private-celebration",
   "metadata": {
    "execution": {
     "iopub.execute_input": "2021-05-20T18:37:09.003547Z",
     "iopub.status.busy": "2021-05-20T18:37:09.002872Z",
     "iopub.status.idle": "2021-05-20T18:37:09.010959Z",
     "shell.execute_reply": "2021-05-20T18:37:09.011499Z",
     "shell.execute_reply.started": "2021-05-20T18:29:37.085123Z"
    },
    "papermill": {
     "duration": 0.067297,
     "end_time": "2021-05-20T18:37:09.011668",
     "exception": false,
     "start_time": "2021-05-20T18:37:08.944371",
     "status": "completed"
    },
    "tags": []
   },
   "outputs": [
    {
     "data": {
      "text/plain": [
       "0.6814893088451202"
      ]
     },
     "execution_count": 106,
     "metadata": {},
     "output_type": "execute_result"
    }
   ],
   "source": [
    "#values from 0 to 1\n",
    "#0 model explain None of the variability\n",
    "#1 model explain Entire of the variability\n",
    "linear_reg.score(x_train,y_train)"
   ]
  },
  {
   "attachments": {},
   "cell_type": "markdown",
   "id": "linear-nomination",
   "metadata": {
    "papermill": {
     "duration": 0.056482,
     "end_time": "2021-05-20T18:37:09.123655",
     "exception": false,
     "start_time": "2021-05-20T18:37:09.067173",
     "status": "completed"
    },
    "tags": []
   },
   "source": [
    "### **Scaling Test Data: MinMaxScaler**"
   ]
  },
  {
   "cell_type": "code",
   "execution_count": 107,
   "id": "ranking-coating",
   "metadata": {
    "execution": {
     "iopub.execute_input": "2021-05-20T18:37:09.237980Z",
     "iopub.status.busy": "2021-05-20T18:37:09.237309Z",
     "iopub.status.idle": "2021-05-20T18:37:09.241026Z",
     "shell.execute_reply": "2021-05-20T18:37:09.241530Z",
     "shell.execute_reply.started": "2021-05-20T18:29:37.104244Z"
    },
    "papermill": {
     "duration": 0.062316,
     "end_time": "2021-05-20T18:37:09.241694",
     "exception": false,
     "start_time": "2021-05-20T18:37:09.179378",
     "status": "completed"
    },
    "tags": []
   },
   "outputs": [],
   "source": [
    "var_to_scale = ['area', 'bedrooms', 'bathrooms', 'stories', 'parking','price']"
   ]
  },
  {
   "cell_type": "code",
   "execution_count": 108,
   "id": "younger-competition",
   "metadata": {
    "execution": {
     "iopub.execute_input": "2021-05-20T18:37:09.356039Z",
     "iopub.status.busy": "2021-05-20T18:37:09.355356Z",
     "iopub.status.idle": "2021-05-20T18:37:09.366807Z",
     "shell.execute_reply": "2021-05-20T18:37:09.367375Z",
     "shell.execute_reply.started": "2021-05-20T18:29:37.115354Z"
    },
    "papermill": {
     "duration": 0.070057,
     "end_time": "2021-05-20T18:37:09.367551",
     "exception": false,
     "start_time": "2021-05-20T18:37:09.297494",
     "status": "completed"
    },
    "tags": []
   },
   "outputs": [],
   "source": [
    "df_test[var_to_scale] = scaler.fit_transform(df_test[var_to_scale])"
   ]
  },
  {
   "attachments": {},
   "cell_type": "markdown",
   "id": "simplified-transport",
   "metadata": {
    "papermill": {
     "duration": 0.055182,
     "end_time": "2021-05-20T18:37:09.478538",
     "exception": false,
     "start_time": "2021-05-20T18:37:09.423356",
     "status": "completed"
    },
    "tags": []
   },
   "source": [
    "## **Testing our model**"
   ]
  },
  {
   "cell_type": "code",
   "execution_count": 109,
   "id": "included-devil",
   "metadata": {
    "execution": {
     "iopub.execute_input": "2021-05-20T18:37:09.593059Z",
     "iopub.status.busy": "2021-05-20T18:37:09.592423Z",
     "iopub.status.idle": "2021-05-20T18:37:09.597137Z",
     "shell.execute_reply": "2021-05-20T18:37:09.597605Z",
     "shell.execute_reply.started": "2021-05-20T18:29:37.137522Z"
    },
    "papermill": {
     "duration": 0.063545,
     "end_time": "2021-05-20T18:37:09.597790",
     "exception": false,
     "start_time": "2021-05-20T18:37:09.534245",
     "status": "completed"
    },
    "tags": []
   },
   "outputs": [],
   "source": [
    "y_test = df_test.pop('price')\n",
    "x_test = df_test"
   ]
  },
  {
   "cell_type": "code",
   "execution_count": 110,
   "id": "sensitive-bowling",
   "metadata": {
    "execution": {
     "iopub.execute_input": "2021-05-20T18:37:09.718720Z",
     "iopub.status.busy": "2021-05-20T18:37:09.718080Z",
     "iopub.status.idle": "2021-05-20T18:37:09.721087Z",
     "shell.execute_reply": "2021-05-20T18:37:09.720519Z",
     "shell.execute_reply.started": "2021-05-20T18:29:37.152741Z"
    },
    "papermill": {
     "duration": 0.065781,
     "end_time": "2021-05-20T18:37:09.721241",
     "exception": false,
     "start_time": "2021-05-20T18:37:09.655460",
     "status": "completed"
    },
    "tags": []
   },
   "outputs": [],
   "source": [
    "#predict the output(predictions) using the test data\n",
    "predictions = linear_reg.predict(x_test)"
   ]
  },
  {
   "attachments": {},
   "cell_type": "markdown",
   "id": "complimentary-announcement",
   "metadata": {
    "papermill": {
     "duration": 0.055014,
     "end_time": "2021-05-20T18:37:09.831954",
     "exception": false,
     "start_time": "2021-05-20T18:37:09.776940",
     "status": "completed"
    },
    "tags": []
   },
   "source": [
    "### **Checking R squared value**"
   ]
  },
  {
   "cell_type": "code",
   "execution_count": 111,
   "id": "challenging-transition",
   "metadata": {
    "execution": {
     "iopub.execute_input": "2021-05-20T18:37:09.948784Z",
     "iopub.status.busy": "2021-05-20T18:37:09.948125Z",
     "iopub.status.idle": "2021-05-20T18:37:09.952027Z",
     "shell.execute_reply": "2021-05-20T18:37:09.952473Z",
     "shell.execute_reply.started": "2021-05-20T18:29:37.170199Z"
    },
    "papermill": {
     "duration": 0.065276,
     "end_time": "2021-05-20T18:37:09.952642",
     "exception": false,
     "start_time": "2021-05-20T18:37:09.887366",
     "status": "completed"
    },
    "tags": []
   },
   "outputs": [
    {
     "data": {
      "text/plain": [
       "0.599557533872853"
      ]
     },
     "execution_count": 111,
     "metadata": {},
     "output_type": "execute_result"
    }
   ],
   "source": [
    "from sklearn.metrics import r2_score \n",
    "r2_score(y_test, predictions)"
   ]
  },
  {
   "attachments": {},
   "cell_type": "markdown",
   "id": "religious-involvement",
   "metadata": {
    "papermill": {
     "duration": 0.05611,
     "end_time": "2021-05-20T18:37:10.065518",
     "exception": false,
     "start_time": "2021-05-20T18:37:10.009408",
     "status": "completed"
    },
    "tags": []
   },
   "source": [
    "### **Comparing the actual and predicted values**"
   ]
  },
  {
   "cell_type": "code",
   "execution_count": 112,
   "id": "precise-ontario",
   "metadata": {
    "execution": {
     "iopub.execute_input": "2021-05-20T18:37:10.183852Z",
     "iopub.status.busy": "2021-05-20T18:37:10.183005Z",
     "iopub.status.idle": "2021-05-20T18:37:10.185925Z",
     "shell.execute_reply": "2021-05-20T18:37:10.185418Z",
     "shell.execute_reply.started": "2021-05-20T18:32:33.084157Z"
    },
    "papermill": {
     "duration": 0.063974,
     "end_time": "2021-05-20T18:37:10.186068",
     "exception": false,
     "start_time": "2021-05-20T18:37:10.122094",
     "status": "completed"
    },
    "tags": []
   },
   "outputs": [],
   "source": [
    "#AttributeError: 'Series' object has no attribute 'flatten' --to avoid this error in the next step\n",
    "y_test.shape\n",
    "y_test_matrix = y_test.values.reshape(-1,1)\n"
   ]
  },
  {
   "cell_type": "code",
   "execution_count": 113,
   "id": "current-swedish",
   "metadata": {
    "execution": {
     "iopub.execute_input": "2021-05-20T18:37:10.304206Z",
     "iopub.status.busy": "2021-05-20T18:37:10.303432Z",
     "iopub.status.idle": "2021-05-20T18:37:10.306644Z",
     "shell.execute_reply": "2021-05-20T18:37:10.306129Z",
     "shell.execute_reply.started": "2021-05-20T18:32:42.111851Z"
    },
    "papermill": {
     "duration": 0.06481,
     "end_time": "2021-05-20T18:37:10.306777",
     "exception": false,
     "start_time": "2021-05-20T18:37:10.241967",
     "status": "completed"
    },
    "tags": []
   },
   "outputs": [],
   "source": [
    "#load actual and predecited values side by side\n",
    "dframe=pd.DataFrame({'actual':y_test_matrix.flatten(),'Predicted':predictions.flatten()}) \n",
    "#flatten toget single axis of data (1 dimension only)"
   ]
  },
  {
   "cell_type": "code",
   "execution_count": 114,
   "id": "arranged-advancement",
   "metadata": {
    "execution": {
     "iopub.execute_input": "2021-05-20T18:37:10.429303Z",
     "iopub.status.busy": "2021-05-20T18:37:10.428320Z",
     "iopub.status.idle": "2021-05-20T18:37:10.432522Z",
     "shell.execute_reply": "2021-05-20T18:37:10.432035Z",
     "shell.execute_reply.started": "2021-05-20T18:32:46.562212Z"
    },
    "papermill": {
     "duration": 0.069893,
     "end_time": "2021-05-20T18:37:10.432661",
     "exception": false,
     "start_time": "2021-05-20T18:37:10.362768",
     "status": "completed"
    },
    "tags": []
   },
   "outputs": [
    {
     "data": {
      "text/html": [
       "<div>\n",
       "<style scoped>\n",
       "    .dataframe tbody tr th:only-of-type {\n",
       "        vertical-align: middle;\n",
       "    }\n",
       "\n",
       "    .dataframe tbody tr th {\n",
       "        vertical-align: top;\n",
       "    }\n",
       "\n",
       "    .dataframe thead th {\n",
       "        text-align: right;\n",
       "    }\n",
       "</style>\n",
       "<table border=\"1\" class=\"dataframe\">\n",
       "  <thead>\n",
       "    <tr style=\"text-align: right;\">\n",
       "      <th></th>\n",
       "      <th>actual</th>\n",
       "      <th>Predicted</th>\n",
       "    </tr>\n",
       "  </thead>\n",
       "  <tbody>\n",
       "    <tr>\n",
       "      <th>0</th>\n",
       "      <td>0.247651</td>\n",
       "      <td>0.202410</td>\n",
       "    </tr>\n",
       "    <tr>\n",
       "      <th>1</th>\n",
       "      <td>0.530201</td>\n",
       "      <td>0.374464</td>\n",
       "    </tr>\n",
       "    <tr>\n",
       "      <th>2</th>\n",
       "      <td>0.328859</td>\n",
       "      <td>0.305654</td>\n",
       "    </tr>\n",
       "    <tr>\n",
       "      <th>3</th>\n",
       "      <td>0.261745</td>\n",
       "      <td>0.293786</td>\n",
       "    </tr>\n",
       "    <tr>\n",
       "      <th>4</th>\n",
       "      <td>0.245638</td>\n",
       "      <td>0.258827</td>\n",
       "    </tr>\n",
       "    <tr>\n",
       "      <th>5</th>\n",
       "      <td>0.275168</td>\n",
       "      <td>0.189463</td>\n",
       "    </tr>\n",
       "    <tr>\n",
       "      <th>6</th>\n",
       "      <td>0.644295</td>\n",
       "      <td>0.499099</td>\n",
       "    </tr>\n",
       "    <tr>\n",
       "      <th>7</th>\n",
       "      <td>0.328859</td>\n",
       "      <td>0.297637</td>\n",
       "    </tr>\n",
       "    <tr>\n",
       "      <th>8</th>\n",
       "      <td>0.087248</td>\n",
       "      <td>0.122528</td>\n",
       "    </tr>\n",
       "    <tr>\n",
       "      <th>9</th>\n",
       "      <td>0.395973</td>\n",
       "      <td>0.316860</td>\n",
       "    </tr>\n",
       "    <tr>\n",
       "      <th>10</th>\n",
       "      <td>0.177852</td>\n",
       "      <td>0.085304</td>\n",
       "    </tr>\n",
       "    <tr>\n",
       "      <th>11</th>\n",
       "      <td>0.463087</td>\n",
       "      <td>0.370193</td>\n",
       "    </tr>\n",
       "    <tr>\n",
       "      <th>12</th>\n",
       "      <td>0.053691</td>\n",
       "      <td>0.219748</td>\n",
       "    </tr>\n",
       "    <tr>\n",
       "      <th>13</th>\n",
       "      <td>0.395302</td>\n",
       "      <td>0.419331</td>\n",
       "    </tr>\n",
       "    <tr>\n",
       "      <th>14</th>\n",
       "      <td>0.362416</td>\n",
       "      <td>0.325773</td>\n",
       "    </tr>\n",
       "  </tbody>\n",
       "</table>\n",
       "</div>"
      ],
      "text/plain": [
       "      actual  Predicted\n",
       "0   0.247651   0.202410\n",
       "1   0.530201   0.374464\n",
       "2   0.328859   0.305654\n",
       "3   0.261745   0.293786\n",
       "4   0.245638   0.258827\n",
       "5   0.275168   0.189463\n",
       "6   0.644295   0.499099\n",
       "7   0.328859   0.297637\n",
       "8   0.087248   0.122528\n",
       "9   0.395973   0.316860\n",
       "10  0.177852   0.085304\n",
       "11  0.463087   0.370193\n",
       "12  0.053691   0.219748\n",
       "13  0.395302   0.419331\n",
       "14  0.362416   0.325773"
      ]
     },
     "execution_count": 114,
     "metadata": {},
     "output_type": "execute_result"
    }
   ],
   "source": [
    "dframe.head(15)"
   ]
  },
  {
   "attachments": {},
   "cell_type": "markdown",
   "id": "metric-worth",
   "metadata": {
    "papermill": {
     "duration": 0.056283,
     "end_time": "2021-05-20T18:37:10.545197",
     "exception": false,
     "start_time": "2021-05-20T18:37:10.488914",
     "status": "completed"
    },
    "tags": []
   },
   "source": [
    "### **Plotting the Graph**"
   ]
  },
  {
   "cell_type": "code",
   "execution_count": 115,
   "id": "breathing-tulsa",
   "metadata": {
    "execution": {
     "iopub.execute_input": "2021-05-20T18:37:10.686945Z",
     "iopub.status.busy": "2021-05-20T18:37:10.686255Z",
     "iopub.status.idle": "2021-05-20T18:37:10.882880Z",
     "shell.execute_reply": "2021-05-20T18:37:10.883373Z",
     "shell.execute_reply.started": "2021-05-20T18:33:04.550774Z"
    },
    "papermill": {
     "duration": 0.282014,
     "end_time": "2021-05-20T18:37:10.883538",
     "exception": false,
     "start_time": "2021-05-20T18:37:10.601524",
     "status": "completed"
    },
    "tags": []
   },
   "outputs": [
    {
     "data": {
      "text/plain": [
       "Text(0, 0.5, 'Predicted')"
      ]
     },
     "execution_count": 115,
     "metadata": {},
     "output_type": "execute_result"
    },
    {
     "data": {
      "image/png": "[encoded data removed]",
      "text/plain": [
       "<Figure size 432x288 with 1 Axes>"
      ]
     },
     "metadata": {},
     "output_type": "display_data"
    }
   ],
   "source": [
    "#using scatter plot compare the actual and predicted data\n",
    "fig = plt.figure()\n",
    "plt.scatter(y_test,predictions)\n",
    "plt.title('Actual versus Prediction ')\n",
    "plt.xlabel('Actual', fontsize=20)                         \n",
    "plt.ylabel('Predicted', fontsize=20)                         "
   ]
  }
 ],
 "metadata": {
  "kernelspec": {
   "display_name": "Python 3",
   "language": "python",
   "name": "python3"
  },
  "language_info": {
   "codemirror_mode": {
    "name": "ipython",
    "version": 3
   },
   "file_extension": ".py",
   "mimetype": "text/x-python",
   "name": "python",
   "nbconvert_exporter": "python",
   "pygments_lexer": "ipython3",
   "version": "3.9.5"
  },
  "papermill": {
   "default_parameters": {},
   "duration": 52.899237,
   "end_time": "2021-05-20T18:37:12.648293",
   "environment_variables": {},
   "exception": null,
   "input_path": "__notebook__.ipynb",
   "output_path": "__notebook__.ipynb",
   "parameters": {},
   "start_time": "2021-05-20T18:36:19.749056",
   "version": "2.3.2"
  }
 },
 "nbformat": 4,
 "nbformat_minor": 5
}
